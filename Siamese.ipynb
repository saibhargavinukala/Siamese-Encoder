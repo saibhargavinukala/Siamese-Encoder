{
  "nbformat": 4,
  "nbformat_minor": 0,
  "metadata": {
    "colab": {
      "provenance": [],
      "gpuType": "T4",
      "include_colab_link": true
    },
    "kernelspec": {
      "name": "python3",
      "display_name": "Python 3"
    },
    "language_info": {
      "name": "python"
    },
    "accelerator": "GPU"
  },
  "cells": [
    {
      "cell_type": "markdown",
      "metadata": {
        "id": "view-in-github",
        "colab_type": "text"
      },
      "source": [
        "<a href=\"https://colab.research.google.com/github/saibhargavinukala/Siamese-Encoder/blob/main/Siamese.ipynb\" target=\"_parent\"><img src=\"https://colab.research.google.com/assets/colab-badge.svg\" alt=\"Open In Colab\"/></a>"
      ]
    },
    {
      "cell_type": "markdown",
      "source": [
        "Siamese Encoder - Decoder with Attention\n",
        "Large Language Models (LLMs) are frequently employed for rewriting or applying stylistic changes to text. The objective of this competition is to reconstruct the LLM prompt used to transform a specified text. To accomplish this, I will utilize an encoder-decoder architecture, specifically emphasizing attention mechanisms. Given that we have two inputs—the original text and the rewritten text—the encoder employs a siamese LSTM architecture.\n"
      ],
      "metadata": {
        "id": "TXdXNq5NZ0Du"
      }
    },
    {
      "cell_type": "code",
      "source": [
        "# Imports\n",
        "import re\n",
        "!pip install keras-nlp\n",
        "\n",
        "import matplotlib.pyplot as plt\n",
        "import numpy as np\n",
        "import pandas as pd\n",
        "import tensorflow as tf\n",
        "import keras_nlp\n",
        "\n",
        "from pathlib import Path\n",
        "\n",
        "from nltk.corpus import stopwords\n",
        "from tensorflow.keras import layers\n",
        "from tensorflow.keras.optimizers import Nadam\n",
        "from tensorflow.keras.models import Model\n",
        "from sklearn.model_selection import train_test_split"
      ],
      "metadata": {
        "id": "ADi_R8TFcbdb",
        "colab": {
          "base_uri": "https://localhost:8080/"
        },
        "outputId": "109294b2-bc42-4f7d-ce35-fa0d186b4e01"
      },
      "execution_count": null,
      "outputs": [
        {
          "output_type": "stream",
          "name": "stdout",
          "text": [
            "Requirement already satisfied: keras-nlp in /usr/local/lib/python3.10/dist-packages (0.18.1)\n",
            "Requirement already satisfied: keras-hub==0.18.1 in /usr/local/lib/python3.10/dist-packages (from keras-nlp) (0.18.1)\n",
            "Requirement already satisfied: absl-py in /usr/local/lib/python3.10/dist-packages (from keras-hub==0.18.1->keras-nlp) (1.4.0)\n",
            "Requirement already satisfied: numpy in /usr/local/lib/python3.10/dist-packages (from keras-hub==0.18.1->keras-nlp) (1.26.4)\n",
            "Requirement already satisfied: packaging in /usr/local/lib/python3.10/dist-packages (from keras-hub==0.18.1->keras-nlp) (24.2)\n",
            "Requirement already satisfied: regex in /usr/local/lib/python3.10/dist-packages (from keras-hub==0.18.1->keras-nlp) (2024.11.6)\n",
            "Requirement already satisfied: rich in /usr/local/lib/python3.10/dist-packages (from keras-hub==0.18.1->keras-nlp) (13.9.4)\n",
            "Requirement already satisfied: kagglehub in /usr/local/lib/python3.10/dist-packages (from keras-hub==0.18.1->keras-nlp) (0.3.5)\n",
            "Requirement already satisfied: tensorflow-text in /usr/local/lib/python3.10/dist-packages (from keras-hub==0.18.1->keras-nlp) (2.18.1)\n",
            "Requirement already satisfied: requests in /usr/local/lib/python3.10/dist-packages (from kagglehub->keras-hub==0.18.1->keras-nlp) (2.32.3)\n",
            "Requirement already satisfied: tqdm in /usr/local/lib/python3.10/dist-packages (from kagglehub->keras-hub==0.18.1->keras-nlp) (4.67.1)\n",
            "Requirement already satisfied: markdown-it-py>=2.2.0 in /usr/local/lib/python3.10/dist-packages (from rich->keras-hub==0.18.1->keras-nlp) (3.0.0)\n",
            "Requirement already satisfied: pygments<3.0.0,>=2.13.0 in /usr/local/lib/python3.10/dist-packages (from rich->keras-hub==0.18.1->keras-nlp) (2.18.0)\n",
            "Requirement already satisfied: typing-extensions<5.0,>=4.0.0 in /usr/local/lib/python3.10/dist-packages (from rich->keras-hub==0.18.1->keras-nlp) (4.12.2)\n",
            "Requirement already satisfied: tensorflow<2.19,>=2.18.0 in /usr/local/lib/python3.10/dist-packages (from tensorflow-text->keras-hub==0.18.1->keras-nlp) (2.18.0)\n",
            "Requirement already satisfied: mdurl~=0.1 in /usr/local/lib/python3.10/dist-packages (from markdown-it-py>=2.2.0->rich->keras-hub==0.18.1->keras-nlp) (0.1.2)\n",
            "Requirement already satisfied: astunparse>=1.6.0 in /usr/local/lib/python3.10/dist-packages (from tensorflow<2.19,>=2.18.0->tensorflow-text->keras-hub==0.18.1->keras-nlp) (1.6.3)\n",
            "Requirement already satisfied: flatbuffers>=24.3.25 in /usr/local/lib/python3.10/dist-packages (from tensorflow<2.19,>=2.18.0->tensorflow-text->keras-hub==0.18.1->keras-nlp) (24.3.25)\n",
            "Requirement already satisfied: gast!=0.5.0,!=0.5.1,!=0.5.2,>=0.2.1 in /usr/local/lib/python3.10/dist-packages (from tensorflow<2.19,>=2.18.0->tensorflow-text->keras-hub==0.18.1->keras-nlp) (0.6.0)\n",
            "Requirement already satisfied: google-pasta>=0.1.1 in /usr/local/lib/python3.10/dist-packages (from tensorflow<2.19,>=2.18.0->tensorflow-text->keras-hub==0.18.1->keras-nlp) (0.2.0)\n",
            "Requirement already satisfied: libclang>=13.0.0 in /usr/local/lib/python3.10/dist-packages (from tensorflow<2.19,>=2.18.0->tensorflow-text->keras-hub==0.18.1->keras-nlp) (18.1.1)\n",
            "Requirement already satisfied: opt-einsum>=2.3.2 in /usr/local/lib/python3.10/dist-packages (from tensorflow<2.19,>=2.18.0->tensorflow-text->keras-hub==0.18.1->keras-nlp) (3.4.0)\n",
            "Requirement already satisfied: protobuf!=4.21.0,!=4.21.1,!=4.21.2,!=4.21.3,!=4.21.4,!=4.21.5,<6.0.0dev,>=3.20.3 in /usr/local/lib/python3.10/dist-packages (from tensorflow<2.19,>=2.18.0->tensorflow-text->keras-hub==0.18.1->keras-nlp) (4.25.5)\n",
            "Requirement already satisfied: setuptools in /usr/local/lib/python3.10/dist-packages (from tensorflow<2.19,>=2.18.0->tensorflow-text->keras-hub==0.18.1->keras-nlp) (75.1.0)\n",
            "Requirement already satisfied: six>=1.12.0 in /usr/local/lib/python3.10/dist-packages (from tensorflow<2.19,>=2.18.0->tensorflow-text->keras-hub==0.18.1->keras-nlp) (1.17.0)\n",
            "Requirement already satisfied: termcolor>=1.1.0 in /usr/local/lib/python3.10/dist-packages (from tensorflow<2.19,>=2.18.0->tensorflow-text->keras-hub==0.18.1->keras-nlp) (2.5.0)\n",
            "Requirement already satisfied: wrapt>=1.11.0 in /usr/local/lib/python3.10/dist-packages (from tensorflow<2.19,>=2.18.0->tensorflow-text->keras-hub==0.18.1->keras-nlp) (1.17.0)\n",
            "Requirement already satisfied: grpcio<2.0,>=1.24.3 in /usr/local/lib/python3.10/dist-packages (from tensorflow<2.19,>=2.18.0->tensorflow-text->keras-hub==0.18.1->keras-nlp) (1.68.1)\n",
            "Requirement already satisfied: tensorboard<2.19,>=2.18 in /usr/local/lib/python3.10/dist-packages (from tensorflow<2.19,>=2.18.0->tensorflow-text->keras-hub==0.18.1->keras-nlp) (2.18.0)\n",
            "Requirement already satisfied: keras>=3.5.0 in /usr/local/lib/python3.10/dist-packages (from tensorflow<2.19,>=2.18.0->tensorflow-text->keras-hub==0.18.1->keras-nlp) (3.5.0)\n",
            "Requirement already satisfied: h5py>=3.11.0 in /usr/local/lib/python3.10/dist-packages (from tensorflow<2.19,>=2.18.0->tensorflow-text->keras-hub==0.18.1->keras-nlp) (3.12.1)\n",
            "Requirement already satisfied: ml-dtypes<0.5.0,>=0.4.0 in /usr/local/lib/python3.10/dist-packages (from tensorflow<2.19,>=2.18.0->tensorflow-text->keras-hub==0.18.1->keras-nlp) (0.4.1)\n",
            "Requirement already satisfied: tensorflow-io-gcs-filesystem>=0.23.1 in /usr/local/lib/python3.10/dist-packages (from tensorflow<2.19,>=2.18.0->tensorflow-text->keras-hub==0.18.1->keras-nlp) (0.37.1)\n",
            "Requirement already satisfied: charset-normalizer<4,>=2 in /usr/local/lib/python3.10/dist-packages (from requests->kagglehub->keras-hub==0.18.1->keras-nlp) (3.4.0)\n",
            "Requirement already satisfied: idna<4,>=2.5 in /usr/local/lib/python3.10/dist-packages (from requests->kagglehub->keras-hub==0.18.1->keras-nlp) (3.10)\n",
            "Requirement already satisfied: urllib3<3,>=1.21.1 in /usr/local/lib/python3.10/dist-packages (from requests->kagglehub->keras-hub==0.18.1->keras-nlp) (2.2.3)\n",
            "Requirement already satisfied: certifi>=2017.4.17 in /usr/local/lib/python3.10/dist-packages (from requests->kagglehub->keras-hub==0.18.1->keras-nlp) (2024.12.14)\n",
            "Requirement already satisfied: wheel<1.0,>=0.23.0 in /usr/local/lib/python3.10/dist-packages (from astunparse>=1.6.0->tensorflow<2.19,>=2.18.0->tensorflow-text->keras-hub==0.18.1->keras-nlp) (0.45.1)\n",
            "Requirement already satisfied: namex in /usr/local/lib/python3.10/dist-packages (from keras>=3.5.0->tensorflow<2.19,>=2.18.0->tensorflow-text->keras-hub==0.18.1->keras-nlp) (0.0.8)\n",
            "Requirement already satisfied: optree in /usr/local/lib/python3.10/dist-packages (from keras>=3.5.0->tensorflow<2.19,>=2.18.0->tensorflow-text->keras-hub==0.18.1->keras-nlp) (0.13.1)\n",
            "Requirement already satisfied: markdown>=2.6.8 in /usr/local/lib/python3.10/dist-packages (from tensorboard<2.19,>=2.18->tensorflow<2.19,>=2.18.0->tensorflow-text->keras-hub==0.18.1->keras-nlp) (3.7)\n",
            "Requirement already satisfied: tensorboard-data-server<0.8.0,>=0.7.0 in /usr/local/lib/python3.10/dist-packages (from tensorboard<2.19,>=2.18->tensorflow<2.19,>=2.18.0->tensorflow-text->keras-hub==0.18.1->keras-nlp) (0.7.2)\n",
            "Requirement already satisfied: werkzeug>=1.0.1 in /usr/local/lib/python3.10/dist-packages (from tensorboard<2.19,>=2.18->tensorflow<2.19,>=2.18.0->tensorflow-text->keras-hub==0.18.1->keras-nlp) (3.1.3)\n",
            "Requirement already satisfied: MarkupSafe>=2.1.1 in /usr/local/lib/python3.10/dist-packages (from werkzeug>=1.0.1->tensorboard<2.19,>=2.18->tensorflow<2.19,>=2.18.0->tensorflow-text->keras-hub==0.18.1->keras-nlp) (3.0.2)\n"
          ]
        }
      ]
    },
    {
      "cell_type": "code",
      "source": [
        "\n",
        "# Constants\n",
        "# DATA = Path('/kaggle/') # This is not needed as you are providing the full path in rglob\n",
        "# = Path('/content/drive/MyDrive/IV Project/train.csv')\n",
        "TEST_DATA = Path('/content/drive/MyDrive/IV Project/test.csv')\n",
        "SUBMISSION_DATA = Path('/content/drive/MyDrive/IV Project/sample_submission.csv')\n",
        "\n",
        "VOCAB_SIZE = 5000\n",
        "MAX_SEQ_LENGTH = 512\n",
        "BATCH_SIZE = 32\n",
        "\n",
        "VOCAB_SIZE = 5000\n",
        "MAX_SEQ_LENGTH = 512\n",
        "BATCH_SIZE = 32"
      ],
      "metadata": {
        "id": "8cvoWoe0aBvK"
      },
      "execution_count": null,
      "outputs": []
    },
    {
      "cell_type": "markdown",
      "source": [
        "1. Setup Modules & Dependencies\n"
      ],
      "metadata": {
        "id": "PBp4MK4ddTLx"
      }
    },
    {
      "cell_type": "code",
      "source": [
        "\n",
        "# Ignore Warnings\n",
        "import warnings\n",
        "warnings.filterwarnings('ignore')"
      ],
      "metadata": {
        "id": "GhKnvK_FaB95"
      },
      "execution_count": null,
      "outputs": []
    },
    {
      "cell_type": "code",
      "source": [
        "# Setup Environment [OS]\n",
        "import os\n",
        "os.environ[\"KERAS_BACKEND\"] = \"jax\" # the best performance can be achieved with JAX backend\n",
        "os.environ[\"XLA_PYTHON_CLIENT_MEM_FRACTION\"] = \"1.00\" # avoid memory fragmentation on JAX backend\n",
        "\n",
        "# Natural Language Processing + Machine Learning\n",
        "import keras\n",
        "import keras_nlp\n",
        "\n",
        "# Math + Data Processing\n",
        "import numpy as np\n",
        "import pandas as pd\n",
        "from tqdm.notebook import tqdm\n",
        "tqdm.pandas() # progress bar for pandas\n",
        "\n",
        "# Data Visualization\n",
        "import matplotlib.pyplot as plt\n",
        "%matplotlib inline\n",
        "import seaborn as sns\n",
        "sns.set_theme(style='whitegrid', palette='viridis')\n",
        "\n",
        "import plotly.graph_objs as go\n",
        "import plotly.express as px\n",
        "from IPython.display import display, Markdown"
      ],
      "metadata": {
        "id": "W64v9ofkaCEK"
      },
      "execution_count": null,
      "outputs": []
    },
    {
      "cell_type": "code",
      "source": [],
      "metadata": {
        "id": "plPQ-PSxaCSA"
      },
      "execution_count": null,
      "outputs": []
    },
    {
      "cell_type": "markdown",
      "source": [
        "4. Data Upload¶\n",
        "Data Format:\n",
        "\n",
        "These datasets includes:\n",
        "\n",
        "original_text: Input text/essay that needs to be transformed.\n",
        "rewrite_prompt: Prompt/Instruction that was used in the Gemma LM to transform original_text. This is also our target for this competition.\n",
        "rewritten_text: Output text that was generated by the Gemma model."
      ],
      "metadata": {
        "id": "LSv_dDQVeOcu"
      }
    },
    {
      "cell_type": "code",
      "source": [
        "# `LLM Prompt Recovery - Synthetic Datastore dataset` by @dschettler8845\n",
        "df1 = pd.read_csv(\"/content/drive/MyDrive/IV Project/gemma1000_w7b.csv\")\n",
        "df1 = df1[[\"original_text\", \"rewrite_prompt\", \"gemma_7b_rewritten_text_temp0\"]]\n",
        "df1 = df1.rename(columns={\"gemma_7b_rewritten_text_temp0\":\"rewritten_text\"})\n",
        "\n",
        "# `3000 Rewritten texts - Prompt recovery Challenge` by @dipamc77\n",
        "df2 = pd.read_csv(\"/content/drive/MyDrive/IV Project/prompts_0_500_wiki_first_para_3000.csv\")\n",
        "\n",
        "# Merge all datasets\n",
        "df = pd.concat([df1, df2], axis=0).dropna().reset_index(drop=True)\n",
        "df.head(5)\n"
      ],
      "metadata": {
        "id": "epk_ylXRaDBK",
        "colab": {
          "base_uri": "https://localhost:8080/",
          "height": 310
        },
        "outputId": "7425ee4b-9b48-4d54-cc1b-99ea5f563f90"
      },
      "execution_count": null,
      "outputs": [
        {
          "output_type": "execute_result",
          "data": {
            "text/plain": [
              "                                       original_text  \\\n",
              "0  Port-au-Prince, Haiti (CNN) -- Earthquake vict...   \n",
              "1  Former secretary of state Hillary Clinton meet...   \n",
              "2  The opinions expressed by columnists are their...   \n",
              "3  BIGBANG is one of those musical entities that ...   \n",
              "4  WHAT?!??! I know. That’s what you’re saying ri...   \n",
              "\n",
              "                                      rewrite_prompt  \\\n",
              "0        Turn this into an association to be joined.   \n",
              "1             Convert this into a gain to be gained.   \n",
              "2                  Frame this as a political debate.   \n",
              "3        Imagine this as a mathematician's equation.   \n",
              "4  Frame this as an accountant's thrilling advent...   \n",
              "\n",
              "                                      rewritten_text  \n",
              "0  Sure, here is the association you requested:\\n...  \n",
              "1  Sure, here is the gain to be gained from the t...  \n",
              "2  ## The Obama Legacy: A Tale of Two Sides\\n\\nTh...  \n",
              "3  Sure, here is the equation:\\n\\n**BIGBANG's imp...  \n",
              "4  Sure, here's the framed text as an accountant'...  "
            ],
            "text/html": [
              "\n",
              "  <div id=\"df-7ffcf8ae-96cc-4490-8694-925cc3547919\" class=\"colab-df-container\">\n",
              "    <div>\n",
              "<style scoped>\n",
              "    .dataframe tbody tr th:only-of-type {\n",
              "        vertical-align: middle;\n",
              "    }\n",
              "\n",
              "    .dataframe tbody tr th {\n",
              "        vertical-align: top;\n",
              "    }\n",
              "\n",
              "    .dataframe thead th {\n",
              "        text-align: right;\n",
              "    }\n",
              "</style>\n",
              "<table border=\"1\" class=\"dataframe\">\n",
              "  <thead>\n",
              "    <tr style=\"text-align: right;\">\n",
              "      <th></th>\n",
              "      <th>original_text</th>\n",
              "      <th>rewrite_prompt</th>\n",
              "      <th>rewritten_text</th>\n",
              "    </tr>\n",
              "  </thead>\n",
              "  <tbody>\n",
              "    <tr>\n",
              "      <th>0</th>\n",
              "      <td>Port-au-Prince, Haiti (CNN) -- Earthquake vict...</td>\n",
              "      <td>Turn this into an association to be joined.</td>\n",
              "      <td>Sure, here is the association you requested:\\n...</td>\n",
              "    </tr>\n",
              "    <tr>\n",
              "      <th>1</th>\n",
              "      <td>Former secretary of state Hillary Clinton meet...</td>\n",
              "      <td>Convert this into a gain to be gained.</td>\n",
              "      <td>Sure, here is the gain to be gained from the t...</td>\n",
              "    </tr>\n",
              "    <tr>\n",
              "      <th>2</th>\n",
              "      <td>The opinions expressed by columnists are their...</td>\n",
              "      <td>Frame this as a political debate.</td>\n",
              "      <td>## The Obama Legacy: A Tale of Two Sides\\n\\nTh...</td>\n",
              "    </tr>\n",
              "    <tr>\n",
              "      <th>3</th>\n",
              "      <td>BIGBANG is one of those musical entities that ...</td>\n",
              "      <td>Imagine this as a mathematician's equation.</td>\n",
              "      <td>Sure, here is the equation:\\n\\n**BIGBANG's imp...</td>\n",
              "    </tr>\n",
              "    <tr>\n",
              "      <th>4</th>\n",
              "      <td>WHAT?!??! I know. That’s what you’re saying ri...</td>\n",
              "      <td>Frame this as an accountant's thrilling advent...</td>\n",
              "      <td>Sure, here's the framed text as an accountant'...</td>\n",
              "    </tr>\n",
              "  </tbody>\n",
              "</table>\n",
              "</div>\n",
              "    <div class=\"colab-df-buttons\">\n",
              "\n",
              "  <div class=\"colab-df-container\">\n",
              "    <button class=\"colab-df-convert\" onclick=\"convertToInteractive('df-7ffcf8ae-96cc-4490-8694-925cc3547919')\"\n",
              "            title=\"Convert this dataframe to an interactive table.\"\n",
              "            style=\"display:none;\">\n",
              "\n",
              "  <svg xmlns=\"http://www.w3.org/2000/svg\" height=\"24px\" viewBox=\"0 -960 960 960\">\n",
              "    <path d=\"M120-120v-720h720v720H120Zm60-500h600v-160H180v160Zm220 220h160v-160H400v160Zm0 220h160v-160H400v160ZM180-400h160v-160H180v160Zm440 0h160v-160H620v160ZM180-180h160v-160H180v160Zm440 0h160v-160H620v160Z\"/>\n",
              "  </svg>\n",
              "    </button>\n",
              "\n",
              "  <style>\n",
              "    .colab-df-container {\n",
              "      display:flex;\n",
              "      gap: 12px;\n",
              "    }\n",
              "\n",
              "    .colab-df-convert {\n",
              "      background-color: #E8F0FE;\n",
              "      border: none;\n",
              "      border-radius: 50%;\n",
              "      cursor: pointer;\n",
              "      display: none;\n",
              "      fill: #1967D2;\n",
              "      height: 32px;\n",
              "      padding: 0 0 0 0;\n",
              "      width: 32px;\n",
              "    }\n",
              "\n",
              "    .colab-df-convert:hover {\n",
              "      background-color: #E2EBFA;\n",
              "      box-shadow: 0px 1px 2px rgba(60, 64, 67, 0.3), 0px 1px 3px 1px rgba(60, 64, 67, 0.15);\n",
              "      fill: #174EA6;\n",
              "    }\n",
              "\n",
              "    .colab-df-buttons div {\n",
              "      margin-bottom: 4px;\n",
              "    }\n",
              "\n",
              "    [theme=dark] .colab-df-convert {\n",
              "      background-color: #3B4455;\n",
              "      fill: #D2E3FC;\n",
              "    }\n",
              "\n",
              "    [theme=dark] .colab-df-convert:hover {\n",
              "      background-color: #434B5C;\n",
              "      box-shadow: 0px 1px 3px 1px rgba(0, 0, 0, 0.15);\n",
              "      filter: drop-shadow(0px 1px 2px rgba(0, 0, 0, 0.3));\n",
              "      fill: #FFFFFF;\n",
              "    }\n",
              "  </style>\n",
              "\n",
              "    <script>\n",
              "      const buttonEl =\n",
              "        document.querySelector('#df-7ffcf8ae-96cc-4490-8694-925cc3547919 button.colab-df-convert');\n",
              "      buttonEl.style.display =\n",
              "        google.colab.kernel.accessAllowed ? 'block' : 'none';\n",
              "\n",
              "      async function convertToInteractive(key) {\n",
              "        const element = document.querySelector('#df-7ffcf8ae-96cc-4490-8694-925cc3547919');\n",
              "        const dataTable =\n",
              "          await google.colab.kernel.invokeFunction('convertToInteractive',\n",
              "                                                    [key], {});\n",
              "        if (!dataTable) return;\n",
              "\n",
              "        const docLinkHtml = 'Like what you see? Visit the ' +\n",
              "          '<a target=\"_blank\" href=https://colab.research.google.com/notebooks/data_table.ipynb>data table notebook</a>'\n",
              "          + ' to learn more about interactive tables.';\n",
              "        element.innerHTML = '';\n",
              "        dataTable['output_type'] = 'display_data';\n",
              "        await google.colab.output.renderOutput(dataTable, element);\n",
              "        const docLink = document.createElement('div');\n",
              "        docLink.innerHTML = docLinkHtml;\n",
              "        element.appendChild(docLink);\n",
              "      }\n",
              "    </script>\n",
              "  </div>\n",
              "\n",
              "\n",
              "<div id=\"df-ee8ddfb5-36ed-45ed-84a1-0d6cf55a7fff\">\n",
              "  <button class=\"colab-df-quickchart\" onclick=\"quickchart('df-ee8ddfb5-36ed-45ed-84a1-0d6cf55a7fff')\"\n",
              "            title=\"Suggest charts\"\n",
              "            style=\"display:none;\">\n",
              "\n",
              "<svg xmlns=\"http://www.w3.org/2000/svg\" height=\"24px\"viewBox=\"0 0 24 24\"\n",
              "     width=\"24px\">\n",
              "    <g>\n",
              "        <path d=\"M19 3H5c-1.1 0-2 .9-2 2v14c0 1.1.9 2 2 2h14c1.1 0 2-.9 2-2V5c0-1.1-.9-2-2-2zM9 17H7v-7h2v7zm4 0h-2V7h2v10zm4 0h-2v-4h2v4z\"/>\n",
              "    </g>\n",
              "</svg>\n",
              "  </button>\n",
              "\n",
              "<style>\n",
              "  .colab-df-quickchart {\n",
              "      --bg-color: #E8F0FE;\n",
              "      --fill-color: #1967D2;\n",
              "      --hover-bg-color: #E2EBFA;\n",
              "      --hover-fill-color: #174EA6;\n",
              "      --disabled-fill-color: #AAA;\n",
              "      --disabled-bg-color: #DDD;\n",
              "  }\n",
              "\n",
              "  [theme=dark] .colab-df-quickchart {\n",
              "      --bg-color: #3B4455;\n",
              "      --fill-color: #D2E3FC;\n",
              "      --hover-bg-color: #434B5C;\n",
              "      --hover-fill-color: #FFFFFF;\n",
              "      --disabled-bg-color: #3B4455;\n",
              "      --disabled-fill-color: #666;\n",
              "  }\n",
              "\n",
              "  .colab-df-quickchart {\n",
              "    background-color: var(--bg-color);\n",
              "    border: none;\n",
              "    border-radius: 50%;\n",
              "    cursor: pointer;\n",
              "    display: none;\n",
              "    fill: var(--fill-color);\n",
              "    height: 32px;\n",
              "    padding: 0;\n",
              "    width: 32px;\n",
              "  }\n",
              "\n",
              "  .colab-df-quickchart:hover {\n",
              "    background-color: var(--hover-bg-color);\n",
              "    box-shadow: 0 1px 2px rgba(60, 64, 67, 0.3), 0 1px 3px 1px rgba(60, 64, 67, 0.15);\n",
              "    fill: var(--button-hover-fill-color);\n",
              "  }\n",
              "\n",
              "  .colab-df-quickchart-complete:disabled,\n",
              "  .colab-df-quickchart-complete:disabled:hover {\n",
              "    background-color: var(--disabled-bg-color);\n",
              "    fill: var(--disabled-fill-color);\n",
              "    box-shadow: none;\n",
              "  }\n",
              "\n",
              "  .colab-df-spinner {\n",
              "    border: 2px solid var(--fill-color);\n",
              "    border-color: transparent;\n",
              "    border-bottom-color: var(--fill-color);\n",
              "    animation:\n",
              "      spin 1s steps(1) infinite;\n",
              "  }\n",
              "\n",
              "  @keyframes spin {\n",
              "    0% {\n",
              "      border-color: transparent;\n",
              "      border-bottom-color: var(--fill-color);\n",
              "      border-left-color: var(--fill-color);\n",
              "    }\n",
              "    20% {\n",
              "      border-color: transparent;\n",
              "      border-left-color: var(--fill-color);\n",
              "      border-top-color: var(--fill-color);\n",
              "    }\n",
              "    30% {\n",
              "      border-color: transparent;\n",
              "      border-left-color: var(--fill-color);\n",
              "      border-top-color: var(--fill-color);\n",
              "      border-right-color: var(--fill-color);\n",
              "    }\n",
              "    40% {\n",
              "      border-color: transparent;\n",
              "      border-right-color: var(--fill-color);\n",
              "      border-top-color: var(--fill-color);\n",
              "    }\n",
              "    60% {\n",
              "      border-color: transparent;\n",
              "      border-right-color: var(--fill-color);\n",
              "    }\n",
              "    80% {\n",
              "      border-color: transparent;\n",
              "      border-right-color: var(--fill-color);\n",
              "      border-bottom-color: var(--fill-color);\n",
              "    }\n",
              "    90% {\n",
              "      border-color: transparent;\n",
              "      border-bottom-color: var(--fill-color);\n",
              "    }\n",
              "  }\n",
              "</style>\n",
              "\n",
              "  <script>\n",
              "    async function quickchart(key) {\n",
              "      const quickchartButtonEl =\n",
              "        document.querySelector('#' + key + ' button');\n",
              "      quickchartButtonEl.disabled = true;  // To prevent multiple clicks.\n",
              "      quickchartButtonEl.classList.add('colab-df-spinner');\n",
              "      try {\n",
              "        const charts = await google.colab.kernel.invokeFunction(\n",
              "            'suggestCharts', [key], {});\n",
              "      } catch (error) {\n",
              "        console.error('Error during call to suggestCharts:', error);\n",
              "      }\n",
              "      quickchartButtonEl.classList.remove('colab-df-spinner');\n",
              "      quickchartButtonEl.classList.add('colab-df-quickchart-complete');\n",
              "    }\n",
              "    (() => {\n",
              "      let quickchartButtonEl =\n",
              "        document.querySelector('#df-ee8ddfb5-36ed-45ed-84a1-0d6cf55a7fff button');\n",
              "      quickchartButtonEl.style.display =\n",
              "        google.colab.kernel.accessAllowed ? 'block' : 'none';\n",
              "    })();\n",
              "  </script>\n",
              "</div>\n",
              "\n",
              "    </div>\n",
              "  </div>\n"
            ],
            "application/vnd.google.colaboratory.intrinsic+json": {
              "type": "dataframe",
              "variable_name": "df",
              "summary": "{\n  \"name\": \"df\",\n  \"rows\": 3995,\n  \"fields\": [\n    {\n      \"column\": \"original_text\",\n      \"properties\": {\n        \"dtype\": \"string\",\n        \"num_unique_values\": 3994,\n        \"samples\": [\n          \"Gl\\u00f3ria is a middle-class neighborhood of the city of Rio de Janeiro, Brazil. It is located between the neighbourhoods of Centro and Flamengo, Rio de Janeiro.\",\n          \"When I Saw You (, translit.\\u00a0Lamma Shoftak) is a 2012 Palestinian drama film directed by Annemarie Jacir. The film was selected as the Palestinian entry for the Best Foreign Language Oscar at the 85th Academy Awards. It won Best Asian Film at the 63rd Berlin International Film Festival, NETPAC award.\",\n          \"The Garyville Refinery is the 3rd largest American oil refinery with a nameplate capacity of . The refinery is owned and operated by Marathon Petroleum Corporation. It is located in southeastern Louisiana between New Orleans and Baton Rouge on U.S. Route 61 in Garyville, Louisiana. The facility is the newest major grassroots refinery built in the United States, located on 3,500 acres of land adjacent to the Mississippi River. The refinery is on the former San Francisco Plantation property, which was designated a National Historic Landmark in 1974.\"\n        ],\n        \"semantic_type\": \"\",\n        \"description\": \"\"\n      }\n    },\n    {\n      \"column\": \"rewrite_prompt\",\n      \"properties\": {\n        \"dtype\": \"category\",\n        \"num_unique_values\": 967,\n        \"samples\": [\n          \"Imagine this as a mindfulness exercise.\",\n          \"Rephrase this as an etiquette guide for a fancy gala.\",\n          \"Rewrite this as an executive summary for a report.\"\n        ],\n        \"semantic_type\": \"\",\n        \"description\": \"\"\n      }\n    },\n    {\n      \"column\": \"rewritten_text\",\n      \"properties\": {\n        \"dtype\": \"string\",\n        \"num_unique_values\": 3992,\n        \"samples\": [\n          \"Sure, here's a list:\\n\\nJohn D. Lively (born November 30, 1946 in La Grande, Oregon) is a prominent figure in the realm of modern lifestyle:\\n\\n- He's a Democratic member of the Oregon House of Representatives representing District 12 since January 14, 2013.\\n- He previously served as the mayor of Springfield, Oregon and a member of its city council from 1977 until 1986.\",\n          \"Sure, here's the text converted into the structure of a classic sonnet:\\n\\nOcran's name, a topic of delight,\\nA name that evokes a pleasant chime,\\nAnd though it's seemingly a common sound,\\nIt holds a history both vast and deep.\\n\\nThe word's genesis comes from the old,\\nAnd stems from tales of ancient times,\\nWhen heroes etched their tales upon the sand,\\nAnd myths were spun across the land.\\n\\nOcran's legacy, a testament to the past,\\nThe echoes of a forgotten era's dawn,\\nA name that\",\n          \"**A Diary Entry, 17th May, 1723**\\n\\nMy Dearest Journal,\\n\\nOn this auspicious day, the sun shone upon the ancient town of Adlington, casting long shadows upon the cobbled streets. The air was sweet with the scent of lavender and honeysuckle, a symphony of scents that filled the senses of a weary traveler like myself.\\n\\nI have journeyed far to reach this revered settlement, eager to uncover its secrets and tales of the past. Adlington's history dates back to\"\n        ],\n        \"semantic_type\": \"\",\n        \"description\": \"\"\n      }\n    }\n  ]\n}"
            }
          },
          "metadata": {},
          "execution_count": 6
        }
      ]
    },
    {
      "cell_type": "code",
      "source": [
        "df.shape"
      ],
      "metadata": {
        "colab": {
          "base_uri": "https://localhost:8080/"
        },
        "id": "JJZCxjkQ_tqs",
        "outputId": "3dd3c0f4-1aa5-4a18-be56-d16b85c3c71f"
      },
      "execution_count": null,
      "outputs": [
        {
          "output_type": "execute_result",
          "data": {
            "text/plain": [
              "(3995, 3)"
            ]
          },
          "metadata": {},
          "execution_count": 7
        }
      ]
    },
    {
      "cell_type": "code",
      "source": [
        "df['max_len'] = df.apply(lambda row: max(len(row['original_text']), len(row['rewrite_prompt']), len(row['rewritten_text'])), axis=1)"
      ],
      "metadata": {
        "id": "QLrJUifKaD1j"
      },
      "execution_count": null,
      "outputs": []
    },
    {
      "cell_type": "code",
      "source": [
        "df = df[df['max_len'] <= 2000]\n",
        "df.shape"
      ],
      "metadata": {
        "id": "mYfIVuFuaEee",
        "colab": {
          "base_uri": "https://localhost:8080/"
        },
        "outputId": "d7d7aedd-b7b9-4bc3-c3e2-27f726e6530a"
      },
      "execution_count": null,
      "outputs": [
        {
          "output_type": "execute_result",
          "data": {
            "text/plain": [
              "(3912, 4)"
            ]
          },
          "metadata": {},
          "execution_count": 9
        }
      ]
    },
    {
      "cell_type": "code",
      "source": [
        "df.describe().T.style.background_gradient(cmap='Blues')"
      ],
      "metadata": {
        "id": "Wv-KKiLDaEmg",
        "colab": {
          "base_uri": "https://localhost:8080/",
          "height": 101
        },
        "outputId": "c8cc4034-b2f0-42b6-f031-c1a1041b7f7a"
      },
      "execution_count": null,
      "outputs": [
        {
          "output_type": "execute_result",
          "data": {
            "text/plain": [
              "<pandas.io.formats.style.Styler at 0x79a952d4ae90>"
            ],
            "text/html": [
              "<style type=\"text/css\">\n",
              "#T_6c475_row0_col0, #T_6c475_row0_col1, #T_6c475_row0_col2, #T_6c475_row0_col3, #T_6c475_row0_col4, #T_6c475_row0_col5, #T_6c475_row0_col6, #T_6c475_row0_col7 {\n",
              "  background-color: #f7fbff;\n",
              "  color: #000000;\n",
              "}\n",
              "</style>\n",
              "<table id=\"T_6c475\" class=\"dataframe\">\n",
              "  <thead>\n",
              "    <tr>\n",
              "      <th class=\"blank level0\" >&nbsp;</th>\n",
              "      <th id=\"T_6c475_level0_col0\" class=\"col_heading level0 col0\" >count</th>\n",
              "      <th id=\"T_6c475_level0_col1\" class=\"col_heading level0 col1\" >mean</th>\n",
              "      <th id=\"T_6c475_level0_col2\" class=\"col_heading level0 col2\" >std</th>\n",
              "      <th id=\"T_6c475_level0_col3\" class=\"col_heading level0 col3\" >min</th>\n",
              "      <th id=\"T_6c475_level0_col4\" class=\"col_heading level0 col4\" >25%</th>\n",
              "      <th id=\"T_6c475_level0_col5\" class=\"col_heading level0 col5\" >50%</th>\n",
              "      <th id=\"T_6c475_level0_col6\" class=\"col_heading level0 col6\" >75%</th>\n",
              "      <th id=\"T_6c475_level0_col7\" class=\"col_heading level0 col7\" >max</th>\n",
              "    </tr>\n",
              "  </thead>\n",
              "  <tbody>\n",
              "    <tr>\n",
              "      <th id=\"T_6c475_level0_row0\" class=\"row_heading level0 row0\" >max_len</th>\n",
              "      <td id=\"T_6c475_row0_col0\" class=\"data row0 col0\" >3912.000000</td>\n",
              "      <td id=\"T_6c475_row0_col1\" class=\"data row0 col1\" >645.411554</td>\n",
              "      <td id=\"T_6c475_row0_col2\" class=\"data row0 col2\" >324.323789</td>\n",
              "      <td id=\"T_6c475_row0_col3\" class=\"data row0 col3\" >79.000000</td>\n",
              "      <td id=\"T_6c475_row0_col4\" class=\"data row0 col4\" >488.000000</td>\n",
              "      <td id=\"T_6c475_row0_col5\" class=\"data row0 col5\" >582.000000</td>\n",
              "      <td id=\"T_6c475_row0_col6\" class=\"data row0 col6\" >680.000000</td>\n",
              "      <td id=\"T_6c475_row0_col7\" class=\"data row0 col7\" >1991.000000</td>\n",
              "    </tr>\n",
              "  </tbody>\n",
              "</table>\n"
            ]
          },
          "metadata": {},
          "execution_count": 10
        }
      ]
    },
    {
      "cell_type": "code",
      "source": [
        "plt.figure(figsize=(8, 6))\n",
        "sns.histplot(df['max_len'], bins=20, color='skyblue', edgecolor='black', kde=False)\n",
        "plt.title('Distribution of Maximum Lengths')\n",
        "plt.xlabel('Maximum Length')\n",
        "plt.ylabel('Frequency')\n",
        "plt.grid(True)\n",
        "plt.show()"
      ],
      "metadata": {
        "id": "kUIPNYvpaEs3",
        "colab": {
          "base_uri": "https://localhost:8080/",
          "height": 538
        },
        "outputId": "19325d8d-af46-4c24-82ea-34fa7ae09f4a"
      },
      "execution_count": null,
      "outputs": [
        {
          "output_type": "display_data",
          "data": {
            "text/plain": [
              "<Figure size 800x600 with 1 Axes>"
            ],
            "image/png": "[encoded data removed]"
          },
          "metadata": {}
        }
      ]
    },
    {
      "cell_type": "code",
      "source": [
        "df['max_len'].mean()\n"
      ],
      "metadata": {
        "id": "DJQJMEcFaEzJ",
        "colab": {
          "base_uri": "https://localhost:8080/"
        },
        "outputId": "baa44ce6-8c8e-4393-d24e-95d5f8c0ec7e"
      },
      "execution_count": null,
      "outputs": [
        {
          "output_type": "execute_result",
          "data": {
            "text/plain": [
              "645.411554192229"
            ]
          },
          "metadata": {},
          "execution_count": 12
        }
      ]
    },
    {
      "cell_type": "code",
      "source": [
        "# Constants\n",
        "\n",
        "TRAIN_DATA = df\n",
        "TEST_DATA = Path('/content/drive/MyDrive/IV Project/test.csv')\n",
        "SUBMISSION_DATA = Path('/content/drive/MyDrive/IV Project/sample_submission.csv')\n",
        "\n",
        "VOCAB_SIZE = 5000\n",
        "MAX_SEQ_LENGTH = 512\n",
        "BATCH_SIZE = 32"
      ],
      "metadata": {
        "id": "lwslM2CKaE49"
      },
      "execution_count": null,
      "outputs": []
    },
    {
      "cell_type": "code",
      "source": [
        "# Functions\n",
        "def clean_text(text: str) -> str:\n",
        "    \"\"\"\n",
        "    Clean text by removing unwanted characters or spaces.\n",
        "\n",
        "    Args:\n",
        "        text (str): The text to clean.\n",
        "\n",
        "    Returns:\n",
        "        str: The cleaned text.\n",
        "    \"\"\"\n",
        "    # Remove unwanted characters (\\n, \\r, \\t)\n",
        "    cleaned_text = re.sub(r\"[\\n\\r\\t]\", \"\", text)\n",
        "    # Replace space between ' with no space\n",
        "    cleaned_text = re.sub(r\"\\s*['’]\\s*\", r\"'\", cleaned_text)\n",
        "\n",
        "    return cleaned_text\n",
        "\n",
        "def pred_generation(original_text: str, rewritten_text: str, model: Model, text_vectorization: layers.TextVectorization) -> str:\n",
        "    \"\"\"\n",
        "    Generate text using model predictions. Based on model token, the generation\n",
        "    loop is broke.\n",
        "\n",
        "    Args:\n",
        "        orginal_text (str): The original text used by the encoder.\n",
        "        rewritten_text (str): The rewritten text by Gemma used by the encoder.\n",
        "        model (Model): The model used to make predictions.\n",
        "        text_vectorization (TextVectorization): The adapted layers of prompt vocabulary used to vectorized text.\n",
        "\n",
        "    Returns:\n",
        "        str: The model prediction for the rewrite prompt.\n",
        "    \"\"\"\n",
        "    generation = \"\"\n",
        "\n",
        "    for word_idx in range(MAX_SEQ_LENGTH):\n",
        "        # Set text to array in order to pass them into the encoder inputs\n",
        "        X_or = tf.constant([original_text])\n",
        "        X_re = tf.constant([rewritten_text])\n",
        "\n",
        "        # Get decoder inputs\n",
        "        X_dec = tf.constant([\"startofseq \" + generation])\n",
        "\n",
        "        # Get models predictions (last token's proba)\n",
        "        y_proba = model.predict((X_or, X_re, X_dec), verbose=0)[0, word_idx]\n",
        "        predicted_word_id = np.argmax(y_proba)\n",
        "        predicted_word = text_vectorization.get_vocabulary()[predicted_word_id]\n",
        "\n",
        "        # Break the generation loop if the model predict the end of sequence\n",
        "        if predicted_word == \"endofseq\":\n",
        "            break\n",
        "\n",
        "        # Add the new generated word\n",
        "        generation += \" \" + predicted_word\n",
        "\n",
        "    return generation.strip()"
      ],
      "metadata": {
        "id": "e1xZ1fB6aE-x"
      },
      "execution_count": null,
      "outputs": []
    },
    {
      "cell_type": "markdown",
      "source": [
        "EDA"
      ],
      "metadata": {
        "id": "p1Pej0dfjOHg"
      }
    },
    {
      "cell_type": "code",
      "source": [
        "\n",
        "#Read the data\n",
        "df_train = df#pd.read_csv(TRAIN_DATA)\n",
        "df_train.head()\n",
        "df_train.shape\n",
        "# Drop the id (unnecessary)\n",
        "#df_train.drop(\"dataset_id\", axis=1, inplace=True)\n"
      ],
      "metadata": {
        "id": "d9Unt7nSimYf",
        "colab": {
          "base_uri": "https://localhost:8080/"
        },
        "outputId": "65f261eb-5241-424b-f4f6-6f4ed48784d4"
      },
      "execution_count": null,
      "outputs": [
        {
          "output_type": "execute_result",
          "data": {
            "text/plain": [
              "(3912, 4)"
            ]
          },
          "metadata": {},
          "execution_count": 15
        }
      ]
    },
    {
      "cell_type": "code",
      "source": [
        "\n",
        "# Clean the text data\n",
        "for col in ['original_text', 'rewrite_prompt', 'rewritten_text']: # Explicitly list the text columns\n",
        "    df_train[col] = df_train[col].str.strip().apply(clean_text)\n"
      ],
      "metadata": {
        "id": "X-MNKmHzimmG"
      },
      "execution_count": null,
      "outputs": []
    },
    {
      "cell_type": "markdown",
      "source": [
        "The first task is to examine the length of the text sequences in the original, rewritten, and rewrite text. This will be a limiting factor because of the GPU's low memory access on Kaggle, which restricts our ability to use excessively long sequences."
      ],
      "metadata": {
        "id": "RVXSxmRejpEa"
      }
    },
    {
      "cell_type": "markdown",
      "source": [
        "It appears that most of the texts are quite short, so reducing the sequence length to a maximum of 512 in this notebook should not pose a significant disadvantage.\n",
        "\n",
        "We can also look at the most frequent word in the rewrite prompts:"
      ],
      "metadata": {
        "id": "S3onGIz_j6fG"
      }
    },
    {
      "cell_type": "code",
      "source": [
        "for i, col in enumerate(df_train.columns.to_list()):\n",
        "    # Check if the column contains string data before applying string methods\n",
        "    if df_train[col].dtype == 'object':  # 'object' dtype often represents strings\n",
        "        lengths = df_train[col].str.rsplit(\" \").apply(lambda x: len(x))\n",
        "\n",
        "        plt.figure(figsize=(9, 5))\n",
        "        plt.hist(lengths, density=True, alpha=0.8, color=f\"C{i}\")\n",
        "        plt.title(f\"Text length histogram (var: {col})\")\n",
        "        plt.show()\n",
        "    else:\n",
        "        print(f\"Skipping column '{col}' as it does not contain string data.\")"
      ],
      "metadata": {
        "colab": {
          "base_uri": "https://localhost:8080/",
          "height": 1000
        },
        "id": "LL5j0X_LLy3x",
        "outputId": "e8c0fef8-5498-4abc-dd56-a9b2b8f179a1"
      },
      "execution_count": null,
      "outputs": [
        {
          "output_type": "display_data",
          "data": {
            "text/plain": [
              "<Figure size 900x500 with 1 Axes>"
            ],
            "image/png": "[encoded data removed]"
          },
          "metadata": {}
        },
        {
          "output_type": "display_data",
          "data": {
            "text/plain": [
              "<Figure size 900x500 with 1 Axes>"
            ],
            "image/png": "[encoded data removed]"
          },
          "metadata": {}
        },
        {
          "output_type": "display_data",
          "data": {
            "text/plain": [
              "<Figure size 900x500 with 1 Axes>"
            ],
            "image/png": "[encoded data removed]"
          },
          "metadata": {}
        },
        {
          "output_type": "stream",
          "name": "stdout",
          "text": [
            "Skipping column 'max_len' as it does not contain string data.\n"
          ]
        }
      ]
    },
    {
      "cell_type": "code",
      "source": [
        "import nltk\n",
        "nltk.download('stopwords')\n",
        "\n",
        "# Get the most common word in the rewrite prompts\n",
        "stop_words = set(stopwords.words('english'))\n",
        "most_common = df_train[\"rewrite_prompt\"].apply(\n",
        "    lambda x: [w.lower() for w in re.sub(r\"[^\\w\\s]\",\"\", x).rsplit(\" \") if not w.lower() in stop_words]\n",
        ")\n",
        "\n",
        "most_common = most_common.explode().value_counts()[:30]\n",
        "\n",
        "plt.figure(figsize=(9, 5))\n",
        "plt.bar(most_common.index, most_common.values, alpha=0.8, log=True)\n",
        "plt.title(\"Most common word in rewrite prompt\")\n",
        "plt.xticks(rotation=60)\n",
        "plt.show()"
      ],
      "metadata": {
        "colab": {
          "base_uri": "https://localhost:8080/",
          "height": 501
        },
        "id": "R6HSaAJbMHPn",
        "outputId": "87d6495b-2569-4d99-da94-b96e7911bd0c"
      },
      "execution_count": null,
      "outputs": [
        {
          "output_type": "stream",
          "name": "stderr",
          "text": [
            "[nltk_data] Downloading package stopwords to /root/nltk_data...\n",
            "[nltk_data]   Package stopwords is already up-to-date!\n"
          ]
        },
        {
          "output_type": "display_data",
          "data": {
            "text/plain": [
              "<Figure size 900x500 with 1 Axes>"
            ],
            "image/png": "[encoded data removed]"
          },
          "metadata": {}
        }
      ]
    },
    {
      "cell_type": "markdown",
      "source": [
        "Preprocessing¶\n",
        "We create two text vectorizers, one for the encoder and another for the decoder. An additional constraint due to the GPU's limited memory access in Kaggle is the maximum number of tokens we can set in the text vectorizers (5000 in this notebook).\n",
        "\n",
        "Once the text vectorizers are defined, we adapt them to the available texts. For the decoder, we manually add startofseq and endofseq tokens, which are necessary for text generation."
      ],
      "metadata": {
        "id": "QxdzPEe1kK4a"
      }
    },
    {
      "cell_type": "code",
      "source": [
        "# Define the TextVectorization layers for each model inputs\n",
        "encoder_veclayer = layers.TextVectorization(max_tokens=VOCAB_SIZE, output_sequence_length=MAX_SEQ_LENGTH)\n",
        "decoder_veclayer = layers.TextVectorization(max_tokens=VOCAB_SIZE, output_sequence_length=MAX_SEQ_LENGTH)\n",
        "\n",
        "# Adapt each layers to the text vocabulary\n",
        "encoder_veclayer.adapt(df_train['original_text'].values)\n",
        "# Artificially add start of sequence and end of sequence tokens\n",
        "decoder_veclayer.adapt([f\"startofseq {t} endofseq\" for t in df_train['rewrite_prompt'].values])"
      ],
      "metadata": {
        "id": "Roc5H535inDE"
      },
      "execution_count": null,
      "outputs": []
    },
    {
      "cell_type": "code",
      "source": [
        "# Check some vocabulary\n",
        "print(encoder_veclayer.get_vocabulary()[:10])\n",
        "print(decoder_veclayer.get_vocabulary()[:10])"
      ],
      "metadata": {
        "id": "xx4QpdvbinJT",
        "colab": {
          "base_uri": "https://localhost:8080/"
        },
        "outputId": "c94a4a49-8d50-4909-e576-ab2fa8730699"
      },
      "execution_count": null,
      "outputs": [
        {
          "output_type": "stream",
          "name": "stdout",
          "text": [
            "['', '[UNK]', 'the', 'of', 'in', 'a', 'and', 'is', 'to', 'was']\n",
            "['', '[UNK]', 'a', 'startofseq', 'endofseq', 'it', 'as', 'into', 'this', 'the']\n"
          ]
        }
      ]
    },
    {
      "cell_type": "code",
      "source": [
        "# Split into train and validation set\n",
        "X_train_or, X_val_or, X_train_re, X_val_re, Y_train, Y_val = train_test_split(\n",
        "    df_train['original_text'].values,\n",
        "    df_train['rewritten_text'].values,\n",
        "    df_train['rewrite_prompt'].values,\n",
        "    train_size=0.8,\n",
        "    random_state=42\n",
        ")"
      ],
      "metadata": {
        "id": "rHXOtXl9inPh"
      },
      "execution_count": null,
      "outputs": []
    },
    {
      "cell_type": "code",
      "source": [
        "# Prepare the train arrays\n",
        "X_train_or = tf.constant(X_train_or)\n",
        "X_val_or = tf.constant(X_val_or)\n",
        "X_train_re = tf.constant(X_train_re)\n",
        "X_val_re = tf.constant(X_val_re)\n",
        "\n",
        "# Prepare the target array\n",
        "X_train_dec = tf.constant([f\"startofseq {t}\" for t in Y_train])\n",
        "X_val_dec = tf.constant([f\"startofseq {t}\" for t in Y_val])\n",
        "\n",
        "Y_train = decoder_veclayer([f\"{t} endofseq\" for t in Y_train])\n",
        "Y_val = decoder_veclayer([f\"{t} endofseq\" for t in Y_val])"
      ],
      "metadata": {
        "id": "oJS_iMYsinVd"
      },
      "execution_count": null,
      "outputs": []
    },
    {
      "cell_type": "markdown",
      "source": [
        "Modeling¶\n",
        "\n",
        "After preparing the necessary arrays for modeling, we encode the data using text vectorizers and use embeddings to project our vocabulary onto 512-dimensional vectors.\n",
        "\n",
        "Embeddings are dense vector representations of words or tokens in NLP. Each word is mapped to a unique vector in a continuous space, capturing semantic relationships based on context. They enhance model performance by representing words in a way that supports tasks like classification and text generation. During training, embeddings are learned by predicting context words, adjusting vectors to capture semantic similarities from text data. This enables models to process textual data efficiently while preserving semantic meaning."
      ],
      "metadata": {
        "id": "_ZYG3bDyZyvJ"
      }
    },
    {
      "cell_type": "code",
      "source": [
        "# Define input sequences\n",
        "encoder_inputs_or = layers.Input(shape=[], dtype=tf.string)\n",
        "encoder_inputs_re = layers.Input(shape=[], dtype=tf.string)\n",
        "decoder_inputs = layers.Input(shape=[], dtype=tf.string)\n",
        "\n",
        "encoder_input_or_ids = encoder_veclayer(encoder_inputs_or)\n",
        "encoder_input_re_ids = encoder_veclayer(encoder_inputs_re)\n",
        "decoder_input_ids = decoder_veclayer(decoder_inputs)\n",
        "\n",
        "# Embeddings\n",
        "encoder_embed = layers.Embedding(VOCAB_SIZE, 512)\n",
        "decoder_embed = layers.Embedding(VOCAB_SIZE, 512)\n",
        "\n",
        "encoder_embeddings_or = encoder_embed(encoder_input_or_ids)\n",
        "encoder_embeddings_re = encoder_embed(encoder_input_re_ids)\n",
        "decoder_embeddings = decoder_embed(decoder_input_ids)"
      ],
      "metadata": {
        "id": "z3VJoDvBkll_"
      },
      "execution_count": null,
      "outputs": []
    },
    {
      "cell_type": "markdown",
      "source": [
        "Now, we build the encoder part using the preceding embeddings. The encoder incorporates a siamese bidirectional LSTM. It processes input data in two ways: from the beginning to the end (forward direction) and from the end to the beginning (backward direction). By processing input sequences in these two directions, a bidirectional LSTM can capture dependencies from both past and future states, enabling better context understanding and representation. The siamese part helps to capture information from both the original text and the rewritten text."
      ],
      "metadata": {
        "id": "EbxRJRfCkmJc"
      }
    },
    {
      "cell_type": "code",
      "source": [
        "# Encoder\n",
        "encoder_or = layers.Bidirectional(layers.LSTM(256, return_sequences=True))\n",
        "encoder_re = layers.Bidirectional(layers.LSTM(256, return_sequences=True))\n",
        "\n",
        "encoder_or_out = encoder_or(encoder_embeddings_or)\n",
        "encoder_re_out = encoder_re(encoder_embeddings_re)\n",
        "\n",
        "concat = layers.Concatenate()\n",
        "concat_out = concat([encoder_or_out, encoder_re_out])\n",
        "\n",
        "encoder = tf.keras.layers.LSTM(512, return_state=True, return_sequences=True)\n",
        "encoder_outputs, *encoder_state = encoder(concat_out)"
      ],
      "metadata": {
        "id": "6pOEbw2-kmYE"
      },
      "execution_count": null,
      "outputs": []
    },
    {
      "cell_type": "markdown",
      "source": [
        "After building the encoder, the next step is to construct the decoder part. The decoder utilizes LSTM cells applied to the embeddings calculated in the previous step. This setup enables the decoder to generate output sequences based on the encoded information from the original and rewritten texts."
      ],
      "metadata": {
        "id": "wJGP0eJbk-OX"
      }
    },
    {
      "cell_type": "code",
      "source": [
        "# Decoder\n",
        "decoder = tf.keras.layers.LSTM(512, return_sequences=True)\n",
        "decoder_outputs = decoder(decoder_embeddings, initial_state=encoder_state)"
      ],
      "metadata": {
        "id": "dl7xrA4Tkml1"
      },
      "execution_count": null,
      "outputs": []
    },
    {
      "cell_type": "markdown",
      "source": [
        "Now, let's focus on implementing the attention mechanism in our model before constructing the final dense prediction layers. Attention mechanisms are essential for enabling models to concentrate on specific parts of the input during prediction. They work by allowing the model to assign varying weights or importance to different input elements based on their relevance to the task at hand. This approach is particularly valuable when not all input elements are equally significant for the prediction, as in our case.\n",
        "\n",
        "Incorporating attention allows models to selectively attend to pertinent information, enhancing performance by effectively capturing dependencies and relationships within the data. This selective attention mechanism is instrumental in achieving improved accuracy and generalization, particularly in tasks involving sequential data like text."
      ],
      "metadata": {
        "id": "YjjublbOlEGH"
      }
    },
    {
      "cell_type": "code",
      "source": [
        "# Attention\n",
        "attention_layer = layers.Attention(dropout=0.2)\n",
        "attention_outputs = attention_layer([decoder_outputs, encoder_outputs])\n",
        "\n",
        "output_layer = layers.Dense(VOCAB_SIZE, activation=\"softmax\")\n",
        "Y_proba = output_layer(attention_outputs)"
      ],
      "metadata": {
        "id": "Oef2eWbZkmsK"
      },
      "execution_count": null,
      "outputs": []
    },
    {
      "cell_type": "markdown",
      "source": [
        "Now we can build our model, and compile it using Nadam optimizer (it use Nesterov trick and generally converge slightly faster than Adam optimizer) with a low learning rate (1e-4).\n"
      ],
      "metadata": {
        "id": "Y90hryqMknJF"
      }
    },
    {
      "cell_type": "code",
      "source": [
        "# Model\n",
        "model = Model(\n",
        "    inputs=[encoder_inputs_or, encoder_inputs_re, decoder_inputs],\n",
        "    outputs=[Y_proba]\n",
        ")\n",
        "model.compile(\n",
        "    loss=\"sparse_categorical_crossentropy\",\n",
        "    optimizer=Nadam(learning_rate=1e-4),\n",
        "    metrics=[\"accuracy\"]\n",
        ")"
      ],
      "metadata": {
        "id": "uYXF_7quknu3"
      },
      "execution_count": null,
      "outputs": []
    },
    {
      "cell_type": "code",
      "source": [
        "# Display the model summary\n",
        "model.summary()"
      ],
      "metadata": {
        "id": "p_bj06y6lPA9",
        "colab": {
          "base_uri": "https://localhost:8080/",
          "height": 802
        },
        "outputId": "e4378ff2-644b-421e-fec4-b1fd05f21e6e"
      },
      "execution_count": null,
      "outputs": [
        {
          "output_type": "display_data",
          "data": {
            "text/plain": [
              "\u001b[1mModel: \"functional\"\u001b[0m\n"
            ],
            "text/html": [
              "<pre style=\"white-space:pre;overflow-x:auto;line-height:normal;font-family:Menlo,'DejaVu Sans Mono',consolas,'Courier New',monospace\"><span style=\"font-weight: bold\">Model: \"functional\"</span>\n",
              "</pre>\n"
            ]
          },
          "metadata": {}
        },
        {
          "output_type": "display_data",
          "data": {
            "text/plain": [
              "┏━━━━━━━━━━━━━━━━━━━━━━━━━━━┳━━━━━━━━━━━━━━━━━━━━━━━━┳━━━━━━━━━━━━━━━━┳━━━━━━━━━━━━━━━━━━━━━━━━┓\n",
              "┃\u001b[1m \u001b[0m\u001b[1mLayer (type)             \u001b[0m\u001b[1m \u001b[0m┃\u001b[1m \u001b[0m\u001b[1mOutput Shape          \u001b[0m\u001b[1m \u001b[0m┃\u001b[1m \u001b[0m\u001b[1m       Param #\u001b[0m\u001b[1m \u001b[0m┃\u001b[1m \u001b[0m\u001b[1mConnected to          \u001b[0m\u001b[1m \u001b[0m┃\n",
              "┡━━━━━━━━━━━━━━━━━━━━━━━━━━━╇━━━━━━━━━━━━━━━━━━━━━━━━╇━━━━━━━━━━━━━━━━╇━━━━━━━━━━━━━━━━━━━━━━━━┩\n",
              "│ input_layer (\u001b[38;5;33mInputLayer\u001b[0m)  │ (\u001b[38;5;45mNone\u001b[0m)                 │              \u001b[38;5;34m0\u001b[0m │ -                      │\n",
              "├───────────────────────────┼────────────────────────┼────────────────┼────────────────────────┤\n",
              "│ input_layer_1             │ (\u001b[38;5;45mNone\u001b[0m)                 │              \u001b[38;5;34m0\u001b[0m │ -                      │\n",
              "│ (\u001b[38;5;33mInputLayer\u001b[0m)              │                        │                │                        │\n",
              "├───────────────────────────┼────────────────────────┼────────────────┼────────────────────────┤\n",
              "│ text_vectorization        │ (\u001b[38;5;45mNone\u001b[0m, \u001b[38;5;34m512\u001b[0m)            │              \u001b[38;5;34m0\u001b[0m │ input_layer[\u001b[38;5;34m0\u001b[0m][\u001b[38;5;34m0\u001b[0m],     │\n",
              "│ (\u001b[38;5;33mTextVectorization\u001b[0m)       │                        │                │ input_layer_1[\u001b[38;5;34m0\u001b[0m][\u001b[38;5;34m0\u001b[0m]    │\n",
              "├───────────────────────────┼────────────────────────┼────────────────┼────────────────────────┤\n",
              "│ embedding (\u001b[38;5;33mEmbedding\u001b[0m)     │ (\u001b[38;5;45mNone\u001b[0m, \u001b[38;5;34m512\u001b[0m, \u001b[38;5;34m512\u001b[0m)       │      \u001b[38;5;34m2,560,000\u001b[0m │ text_vectorization[\u001b[38;5;34m0\u001b[0m]… │\n",
              "│                           │                        │                │ text_vectorization[\u001b[38;5;34m1\u001b[0m]… │\n",
              "├───────────────────────────┼────────────────────────┼────────────────┼────────────────────────┤\n",
              "│ input_layer_2             │ (\u001b[38;5;45mNone\u001b[0m)                 │              \u001b[38;5;34m0\u001b[0m │ -                      │\n",
              "│ (\u001b[38;5;33mInputLayer\u001b[0m)              │                        │                │                        │\n",
              "├───────────────────────────┼────────────────────────┼────────────────┼────────────────────────┤\n",
              "│ bidirectional             │ (\u001b[38;5;45mNone\u001b[0m, \u001b[38;5;34m512\u001b[0m, \u001b[38;5;34m512\u001b[0m)       │      \u001b[38;5;34m1,574,912\u001b[0m │ embedding[\u001b[38;5;34m0\u001b[0m][\u001b[38;5;34m0\u001b[0m]        │\n",
              "│ (\u001b[38;5;33mBidirectional\u001b[0m)           │                        │                │                        │\n",
              "├───────────────────────────┼────────────────────────┼────────────────┼────────────────────────┤\n",
              "│ bidirectional_1           │ (\u001b[38;5;45mNone\u001b[0m, \u001b[38;5;34m512\u001b[0m, \u001b[38;5;34m512\u001b[0m)       │      \u001b[38;5;34m1,574,912\u001b[0m │ embedding[\u001b[38;5;34m1\u001b[0m][\u001b[38;5;34m0\u001b[0m]        │\n",
              "│ (\u001b[38;5;33mBidirectional\u001b[0m)           │                        │                │                        │\n",
              "├───────────────────────────┼────────────────────────┼────────────────┼────────────────────────┤\n",
              "│ text_vectorization_1      │ (\u001b[38;5;45mNone\u001b[0m, \u001b[38;5;34m512\u001b[0m)            │              \u001b[38;5;34m0\u001b[0m │ input_layer_2[\u001b[38;5;34m0\u001b[0m][\u001b[38;5;34m0\u001b[0m]    │\n",
              "│ (\u001b[38;5;33mTextVectorization\u001b[0m)       │                        │                │                        │\n",
              "├───────────────────────────┼────────────────────────┼────────────────┼────────────────────────┤\n",
              "│ concatenate (\u001b[38;5;33mConcatenate\u001b[0m) │ (\u001b[38;5;45mNone\u001b[0m, \u001b[38;5;34m512\u001b[0m, \u001b[38;5;34m1024\u001b[0m)      │              \u001b[38;5;34m0\u001b[0m │ bidirectional[\u001b[38;5;34m0\u001b[0m][\u001b[38;5;34m0\u001b[0m],   │\n",
              "│                           │                        │                │ bidirectional_1[\u001b[38;5;34m0\u001b[0m][\u001b[38;5;34m0\u001b[0m]  │\n",
              "├───────────────────────────┼────────────────────────┼────────────────┼────────────────────────┤\n",
              "│ embedding_1 (\u001b[38;5;33mEmbedding\u001b[0m)   │ (\u001b[38;5;45mNone\u001b[0m, \u001b[38;5;34m512\u001b[0m, \u001b[38;5;34m512\u001b[0m)       │      \u001b[38;5;34m2,560,000\u001b[0m │ text_vectorization_1[\u001b[38;5;34m…\u001b[0m │\n",
              "├───────────────────────────┼────────────────────────┼────────────────┼────────────────────────┤\n",
              "│ lstm_2 (\u001b[38;5;33mLSTM\u001b[0m)             │ [(\u001b[38;5;45mNone\u001b[0m, \u001b[38;5;34m512\u001b[0m, \u001b[38;5;34m512\u001b[0m),     │      \u001b[38;5;34m3,147,776\u001b[0m │ concatenate[\u001b[38;5;34m0\u001b[0m][\u001b[38;5;34m0\u001b[0m]      │\n",
              "│                           │ (\u001b[38;5;45mNone\u001b[0m, \u001b[38;5;34m512\u001b[0m), (\u001b[38;5;45mNone\u001b[0m,    │                │                        │\n",
              "│                           │ \u001b[38;5;34m512\u001b[0m)]                  │                │                        │\n",
              "├───────────────────────────┼────────────────────────┼────────────────┼────────────────────────┤\n",
              "│ lstm_3 (\u001b[38;5;33mLSTM\u001b[0m)             │ (\u001b[38;5;45mNone\u001b[0m, \u001b[38;5;34m512\u001b[0m, \u001b[38;5;34m512\u001b[0m)       │      \u001b[38;5;34m2,099,200\u001b[0m │ embedding_1[\u001b[38;5;34m0\u001b[0m][\u001b[38;5;34m0\u001b[0m],     │\n",
              "│                           │                        │                │ lstm_2[\u001b[38;5;34m0\u001b[0m][\u001b[38;5;34m1\u001b[0m],          │\n",
              "│                           │                        │                │ lstm_2[\u001b[38;5;34m0\u001b[0m][\u001b[38;5;34m2\u001b[0m]           │\n",
              "├───────────────────────────┼────────────────────────┼────────────────┼────────────────────────┤\n",
              "│ attention (\u001b[38;5;33mAttention\u001b[0m)     │ (\u001b[38;5;45mNone\u001b[0m, \u001b[38;5;34m512\u001b[0m, \u001b[38;5;34m512\u001b[0m)       │              \u001b[38;5;34m0\u001b[0m │ lstm_3[\u001b[38;5;34m0\u001b[0m][\u001b[38;5;34m0\u001b[0m],          │\n",
              "│                           │                        │                │ lstm_2[\u001b[38;5;34m0\u001b[0m][\u001b[38;5;34m0\u001b[0m]           │\n",
              "├───────────────────────────┼────────────────────────┼────────────────┼────────────────────────┤\n",
              "│ dense (\u001b[38;5;33mDense\u001b[0m)             │ (\u001b[38;5;45mNone\u001b[0m, \u001b[38;5;34m512\u001b[0m, \u001b[38;5;34m5000\u001b[0m)      │      \u001b[38;5;34m2,565,000\u001b[0m │ attention[\u001b[38;5;34m0\u001b[0m][\u001b[38;5;34m0\u001b[0m]        │\n",
              "└───────────────────────────┴────────────────────────┴────────────────┴────────────────────────┘\n"
            ],
            "text/html": [
              "<pre style=\"white-space:pre;overflow-x:auto;line-height:normal;font-family:Menlo,'DejaVu Sans Mono',consolas,'Courier New',monospace\">┏━━━━━━━━━━━━━━━━━━━━━━━━━━━┳━━━━━━━━━━━━━━━━━━━━━━━━┳━━━━━━━━━━━━━━━━┳━━━━━━━━━━━━━━━━━━━━━━━━┓\n",
              "┃<span style=\"font-weight: bold\"> Layer (type)              </span>┃<span style=\"font-weight: bold\"> Output Shape           </span>┃<span style=\"font-weight: bold\">        Param # </span>┃<span style=\"font-weight: bold\"> Connected to           </span>┃\n",
              "┡━━━━━━━━━━━━━━━━━━━━━━━━━━━╇━━━━━━━━━━━━━━━━━━━━━━━━╇━━━━━━━━━━━━━━━━╇━━━━━━━━━━━━━━━━━━━━━━━━┩\n",
              "│ input_layer (<span style=\"color: #0087ff; text-decoration-color: #0087ff\">InputLayer</span>)  │ (<span style=\"color: #00d7ff; text-decoration-color: #00d7ff\">None</span>)                 │              <span style=\"color: #00af00; text-decoration-color: #00af00\">0</span> │ -                      │\n",
              "├───────────────────────────┼────────────────────────┼────────────────┼────────────────────────┤\n",
              "│ input_layer_1             │ (<span style=\"color: #00d7ff; text-decoration-color: #00d7ff\">None</span>)                 │              <span style=\"color: #00af00; text-decoration-color: #00af00\">0</span> │ -                      │\n",
              "│ (<span style=\"color: #0087ff; text-decoration-color: #0087ff\">InputLayer</span>)              │                        │                │                        │\n",
              "├───────────────────────────┼────────────────────────┼────────────────┼────────────────────────┤\n",
              "│ text_vectorization        │ (<span style=\"color: #00d7ff; text-decoration-color: #00d7ff\">None</span>, <span style=\"color: #00af00; text-decoration-color: #00af00\">512</span>)            │              <span style=\"color: #00af00; text-decoration-color: #00af00\">0</span> │ input_layer[<span style=\"color: #00af00; text-decoration-color: #00af00\">0</span>][<span style=\"color: #00af00; text-decoration-color: #00af00\">0</span>],     │\n",
              "│ (<span style=\"color: #0087ff; text-decoration-color: #0087ff\">TextVectorization</span>)       │                        │                │ input_layer_1[<span style=\"color: #00af00; text-decoration-color: #00af00\">0</span>][<span style=\"color: #00af00; text-decoration-color: #00af00\">0</span>]    │\n",
              "├───────────────────────────┼────────────────────────┼────────────────┼────────────────────────┤\n",
              "│ embedding (<span style=\"color: #0087ff; text-decoration-color: #0087ff\">Embedding</span>)     │ (<span style=\"color: #00d7ff; text-decoration-color: #00d7ff\">None</span>, <span style=\"color: #00af00; text-decoration-color: #00af00\">512</span>, <span style=\"color: #00af00; text-decoration-color: #00af00\">512</span>)       │      <span style=\"color: #00af00; text-decoration-color: #00af00\">2,560,000</span> │ text_vectorization[<span style=\"color: #00af00; text-decoration-color: #00af00\">0</span>]… │\n",
              "│                           │                        │                │ text_vectorization[<span style=\"color: #00af00; text-decoration-color: #00af00\">1</span>]… │\n",
              "├───────────────────────────┼────────────────────────┼────────────────┼────────────────────────┤\n",
              "│ input_layer_2             │ (<span style=\"color: #00d7ff; text-decoration-color: #00d7ff\">None</span>)                 │              <span style=\"color: #00af00; text-decoration-color: #00af00\">0</span> │ -                      │\n",
              "│ (<span style=\"color: #0087ff; text-decoration-color: #0087ff\">InputLayer</span>)              │                        │                │                        │\n",
              "├───────────────────────────┼────────────────────────┼────────────────┼────────────────────────┤\n",
              "│ bidirectional             │ (<span style=\"color: #00d7ff; text-decoration-color: #00d7ff\">None</span>, <span style=\"color: #00af00; text-decoration-color: #00af00\">512</span>, <span style=\"color: #00af00; text-decoration-color: #00af00\">512</span>)       │      <span style=\"color: #00af00; text-decoration-color: #00af00\">1,574,912</span> │ embedding[<span style=\"color: #00af00; text-decoration-color: #00af00\">0</span>][<span style=\"color: #00af00; text-decoration-color: #00af00\">0</span>]        │\n",
              "│ (<span style=\"color: #0087ff; text-decoration-color: #0087ff\">Bidirectional</span>)           │                        │                │                        │\n",
              "├───────────────────────────┼────────────────────────┼────────────────┼────────────────────────┤\n",
              "│ bidirectional_1           │ (<span style=\"color: #00d7ff; text-decoration-color: #00d7ff\">None</span>, <span style=\"color: #00af00; text-decoration-color: #00af00\">512</span>, <span style=\"color: #00af00; text-decoration-color: #00af00\">512</span>)       │      <span style=\"color: #00af00; text-decoration-color: #00af00\">1,574,912</span> │ embedding[<span style=\"color: #00af00; text-decoration-color: #00af00\">1</span>][<span style=\"color: #00af00; text-decoration-color: #00af00\">0</span>]        │\n",
              "│ (<span style=\"color: #0087ff; text-decoration-color: #0087ff\">Bidirectional</span>)           │                        │                │                        │\n",
              "├───────────────────────────┼────────────────────────┼────────────────┼────────────────────────┤\n",
              "│ text_vectorization_1      │ (<span style=\"color: #00d7ff; text-decoration-color: #00d7ff\">None</span>, <span style=\"color: #00af00; text-decoration-color: #00af00\">512</span>)            │              <span style=\"color: #00af00; text-decoration-color: #00af00\">0</span> │ input_layer_2[<span style=\"color: #00af00; text-decoration-color: #00af00\">0</span>][<span style=\"color: #00af00; text-decoration-color: #00af00\">0</span>]    │\n",
              "│ (<span style=\"color: #0087ff; text-decoration-color: #0087ff\">TextVectorization</span>)       │                        │                │                        │\n",
              "├───────────────────────────┼────────────────────────┼────────────────┼────────────────────────┤\n",
              "│ concatenate (<span style=\"color: #0087ff; text-decoration-color: #0087ff\">Concatenate</span>) │ (<span style=\"color: #00d7ff; text-decoration-color: #00d7ff\">None</span>, <span style=\"color: #00af00; text-decoration-color: #00af00\">512</span>, <span style=\"color: #00af00; text-decoration-color: #00af00\">1024</span>)      │              <span style=\"color: #00af00; text-decoration-color: #00af00\">0</span> │ bidirectional[<span style=\"color: #00af00; text-decoration-color: #00af00\">0</span>][<span style=\"color: #00af00; text-decoration-color: #00af00\">0</span>],   │\n",
              "│                           │                        │                │ bidirectional_1[<span style=\"color: #00af00; text-decoration-color: #00af00\">0</span>][<span style=\"color: #00af00; text-decoration-color: #00af00\">0</span>]  │\n",
              "├───────────────────────────┼────────────────────────┼────────────────┼────────────────────────┤\n",
              "│ embedding_1 (<span style=\"color: #0087ff; text-decoration-color: #0087ff\">Embedding</span>)   │ (<span style=\"color: #00d7ff; text-decoration-color: #00d7ff\">None</span>, <span style=\"color: #00af00; text-decoration-color: #00af00\">512</span>, <span style=\"color: #00af00; text-decoration-color: #00af00\">512</span>)       │      <span style=\"color: #00af00; text-decoration-color: #00af00\">2,560,000</span> │ text_vectorization_1[<span style=\"color: #00af00; text-decoration-color: #00af00\">…</span> │\n",
              "├───────────────────────────┼────────────────────────┼────────────────┼────────────────────────┤\n",
              "│ lstm_2 (<span style=\"color: #0087ff; text-decoration-color: #0087ff\">LSTM</span>)             │ [(<span style=\"color: #00d7ff; text-decoration-color: #00d7ff\">None</span>, <span style=\"color: #00af00; text-decoration-color: #00af00\">512</span>, <span style=\"color: #00af00; text-decoration-color: #00af00\">512</span>),     │      <span style=\"color: #00af00; text-decoration-color: #00af00\">3,147,776</span> │ concatenate[<span style=\"color: #00af00; text-decoration-color: #00af00\">0</span>][<span style=\"color: #00af00; text-decoration-color: #00af00\">0</span>]      │\n",
              "│                           │ (<span style=\"color: #00d7ff; text-decoration-color: #00d7ff\">None</span>, <span style=\"color: #00af00; text-decoration-color: #00af00\">512</span>), (<span style=\"color: #00d7ff; text-decoration-color: #00d7ff\">None</span>,    │                │                        │\n",
              "│                           │ <span style=\"color: #00af00; text-decoration-color: #00af00\">512</span>)]                  │                │                        │\n",
              "├───────────────────────────┼────────────────────────┼────────────────┼────────────────────────┤\n",
              "│ lstm_3 (<span style=\"color: #0087ff; text-decoration-color: #0087ff\">LSTM</span>)             │ (<span style=\"color: #00d7ff; text-decoration-color: #00d7ff\">None</span>, <span style=\"color: #00af00; text-decoration-color: #00af00\">512</span>, <span style=\"color: #00af00; text-decoration-color: #00af00\">512</span>)       │      <span style=\"color: #00af00; text-decoration-color: #00af00\">2,099,200</span> │ embedding_1[<span style=\"color: #00af00; text-decoration-color: #00af00\">0</span>][<span style=\"color: #00af00; text-decoration-color: #00af00\">0</span>],     │\n",
              "│                           │                        │                │ lstm_2[<span style=\"color: #00af00; text-decoration-color: #00af00\">0</span>][<span style=\"color: #00af00; text-decoration-color: #00af00\">1</span>],          │\n",
              "│                           │                        │                │ lstm_2[<span style=\"color: #00af00; text-decoration-color: #00af00\">0</span>][<span style=\"color: #00af00; text-decoration-color: #00af00\">2</span>]           │\n",
              "├───────────────────────────┼────────────────────────┼────────────────┼────────────────────────┤\n",
              "│ attention (<span style=\"color: #0087ff; text-decoration-color: #0087ff\">Attention</span>)     │ (<span style=\"color: #00d7ff; text-decoration-color: #00d7ff\">None</span>, <span style=\"color: #00af00; text-decoration-color: #00af00\">512</span>, <span style=\"color: #00af00; text-decoration-color: #00af00\">512</span>)       │              <span style=\"color: #00af00; text-decoration-color: #00af00\">0</span> │ lstm_3[<span style=\"color: #00af00; text-decoration-color: #00af00\">0</span>][<span style=\"color: #00af00; text-decoration-color: #00af00\">0</span>],          │\n",
              "│                           │                        │                │ lstm_2[<span style=\"color: #00af00; text-decoration-color: #00af00\">0</span>][<span style=\"color: #00af00; text-decoration-color: #00af00\">0</span>]           │\n",
              "├───────────────────────────┼────────────────────────┼────────────────┼────────────────────────┤\n",
              "│ dense (<span style=\"color: #0087ff; text-decoration-color: #0087ff\">Dense</span>)             │ (<span style=\"color: #00d7ff; text-decoration-color: #00d7ff\">None</span>, <span style=\"color: #00af00; text-decoration-color: #00af00\">512</span>, <span style=\"color: #00af00; text-decoration-color: #00af00\">5000</span>)      │      <span style=\"color: #00af00; text-decoration-color: #00af00\">2,565,000</span> │ attention[<span style=\"color: #00af00; text-decoration-color: #00af00\">0</span>][<span style=\"color: #00af00; text-decoration-color: #00af00\">0</span>]        │\n",
              "└───────────────────────────┴────────────────────────┴────────────────┴────────────────────────┘\n",
              "</pre>\n"
            ]
          },
          "metadata": {}
        },
        {
          "output_type": "display_data",
          "data": {
            "text/plain": [
              "\u001b[1m Total params: \u001b[0m\u001b[38;5;34m16,081,800\u001b[0m (61.35 MB)\n"
            ],
            "text/html": [
              "<pre style=\"white-space:pre;overflow-x:auto;line-height:normal;font-family:Menlo,'DejaVu Sans Mono',consolas,'Courier New',monospace\"><span style=\"font-weight: bold\"> Total params: </span><span style=\"color: #00af00; text-decoration-color: #00af00\">16,081,800</span> (61.35 MB)\n",
              "</pre>\n"
            ]
          },
          "metadata": {}
        },
        {
          "output_type": "display_data",
          "data": {
            "text/plain": [
              "\u001b[1m Trainable params: \u001b[0m\u001b[38;5;34m16,081,800\u001b[0m (61.35 MB)\n"
            ],
            "text/html": [
              "<pre style=\"white-space:pre;overflow-x:auto;line-height:normal;font-family:Menlo,'DejaVu Sans Mono',consolas,'Courier New',monospace\"><span style=\"font-weight: bold\"> Trainable params: </span><span style=\"color: #00af00; text-decoration-color: #00af00\">16,081,800</span> (61.35 MB)\n",
              "</pre>\n"
            ]
          },
          "metadata": {}
        },
        {
          "output_type": "display_data",
          "data": {
            "text/plain": [
              "\u001b[1m Non-trainable params: \u001b[0m\u001b[38;5;34m0\u001b[0m (0.00 B)\n"
            ],
            "text/html": [
              "<pre style=\"white-space:pre;overflow-x:auto;line-height:normal;font-family:Menlo,'DejaVu Sans Mono',consolas,'Courier New',monospace\"><span style=\"font-weight: bold\"> Non-trainable params: </span><span style=\"color: #00af00; text-decoration-color: #00af00\">0</span> (0.00 B)\n",
              "</pre>\n"
            ]
          },
          "metadata": {}
        }
      ]
    },
    {
      "cell_type": "markdown",
      "source": [
        "Now, we can proceed with training the model, which may take a considerable amount of time due to the complexity of the architecture (especially with attention computations, which have a time complexity of O(n^2)). Additionally, it's important to note that using accuracy as a metric may not be ideal for evaluating text generation tasks, which can lead to generous score given by embedding vectors for incorrect answers."
      ],
      "metadata": {
        "id": "kd_AiM7vllMj"
      }
    },
    {
      "cell_type": "code",
      "source": [
        "# Train the model\n",
        "history = model.fit(\n",
        "    (X_train_or, X_train_re, X_train_dec),\n",
        "    Y_train,\n",
        "    epochs=15,\n",
        "    validation_data=((X_val_or, X_val_re, X_val_dec), Y_val),\n",
        "    batch_size=BATCH_SIZE,\n",
        ")"
      ],
      "metadata": {
        "id": "u1hjr_ihlPHK",
        "colab": {
          "base_uri": "https://localhost:8080/"
        },
        "outputId": "74b1d06f-3d34-4ce0-dc27-ec8092660735"
      },
      "execution_count": null,
      "outputs": [
        {
          "output_type": "stream",
          "name": "stdout",
          "text": [
            "Epoch 1/15\n",
            "\u001b[1m98/98\u001b[0m \u001b[32m━━━━━━━━━━━━━━━━━━━━\u001b[0m\u001b[37m\u001b[0m \u001b[1m59s\u001b[0m 516ms/step - accuracy: 0.9282 - loss: 3.2569 - val_accuracy: 0.9797 - val_loss: 0.2190\n",
            "Epoch 2/15\n",
            "\u001b[1m98/98\u001b[0m \u001b[32m━━━━━━━━━━━━━━━━━━━━\u001b[0m\u001b[37m\u001b[0m \u001b[1m51s\u001b[0m 522ms/step - accuracy: 0.9794 - loss: 0.2192 - val_accuracy: 0.9797 - val_loss: 0.2088\n",
            "Epoch 3/15\n",
            "\u001b[1m98/98\u001b[0m \u001b[32m━━━━━━━━━━━━━━━━━━━━\u001b[0m\u001b[37m\u001b[0m \u001b[1m52s\u001b[0m 534ms/step - accuracy: 0.9793 - loss: 0.2119 - val_accuracy: 0.9797 - val_loss: 0.2060\n",
            "Epoch 4/15\n",
            "\u001b[1m98/98\u001b[0m \u001b[32m━━━━━━━━━━━━━━━━━━━━\u001b[0m\u001b[37m\u001b[0m \u001b[1m82s\u001b[0m 538ms/step - accuracy: 0.9794 - loss: 0.2079 - val_accuracy: 0.9797 - val_loss: 0.2048\n",
            "Epoch 5/15\n",
            "\u001b[1m98/98\u001b[0m \u001b[32m━━━━━━━━━━━━━━━━━━━━\u001b[0m\u001b[37m\u001b[0m \u001b[1m55s\u001b[0m 562ms/step - accuracy: 0.9795 - loss: 0.2062 - val_accuracy: 0.9797 - val_loss: 0.2029\n",
            "Epoch 6/15\n",
            "\u001b[1m98/98\u001b[0m \u001b[32m━━━━━━━━━━━━━━━━━━━━\u001b[0m\u001b[37m\u001b[0m \u001b[1m83s\u001b[0m 567ms/step - accuracy: 0.9795 - loss: 0.1727 - val_accuracy: 0.9800 - val_loss: 0.1151\n",
            "Epoch 7/15\n",
            "\u001b[1m98/98\u001b[0m \u001b[32m━━━━━━━━━━━━━━━━━━━━\u001b[0m\u001b[37m\u001b[0m \u001b[1m82s\u001b[0m 567ms/step - accuracy: 0.9809 - loss: 0.1142 - val_accuracy: 0.9834 - val_loss: 0.1028\n",
            "Epoch 8/15\n",
            "\u001b[1m98/98\u001b[0m \u001b[32m━━━━━━━━━━━━━━━━━━━━\u001b[0m\u001b[37m\u001b[0m \u001b[1m82s\u001b[0m 567ms/step - accuracy: 0.9832 - loss: 0.1028 - val_accuracy: 0.9835 - val_loss: 0.0959\n",
            "Epoch 9/15\n",
            "\u001b[1m98/98\u001b[0m \u001b[32m━━━━━━━━━━━━━━━━━━━━\u001b[0m\u001b[37m\u001b[0m \u001b[1m54s\u001b[0m 556ms/step - accuracy: 0.9833 - loss: 0.0979 - val_accuracy: 0.9837 - val_loss: 0.0914\n",
            "Epoch 10/15\n",
            "\u001b[1m98/98\u001b[0m \u001b[32m━━━━━━━━━━━━━━━━━━━━\u001b[0m\u001b[37m\u001b[0m \u001b[1m84s\u001b[0m 573ms/step - accuracy: 0.9836 - loss: 0.0915 - val_accuracy: 0.9841 - val_loss: 0.0879\n",
            "Epoch 11/15\n",
            "\u001b[1m98/98\u001b[0m \u001b[32m━━━━━━━━━━━━━━━━━━━━\u001b[0m\u001b[37m\u001b[0m \u001b[1m81s\u001b[0m 567ms/step - accuracy: 0.9839 - loss: 0.0895 - val_accuracy: 0.9841 - val_loss: 0.0894\n",
            "Epoch 12/15\n",
            "\u001b[1m98/98\u001b[0m \u001b[32m━━━━━━━━━━━━━━━━━━━━\u001b[0m\u001b[37m\u001b[0m \u001b[1m82s\u001b[0m 567ms/step - accuracy: 0.9839 - loss: 0.0892 - val_accuracy: 0.9850 - val_loss: 0.0845\n",
            "Epoch 13/15\n",
            "\u001b[1m98/98\u001b[0m \u001b[32m━━━━━━━━━━━━━━━━━━━━\u001b[0m\u001b[37m\u001b[0m \u001b[1m82s\u001b[0m 567ms/step - accuracy: 0.9847 - loss: 0.0844 - val_accuracy: 0.9853 - val_loss: 0.0819\n",
            "Epoch 14/15\n",
            "\u001b[1m98/98\u001b[0m \u001b[32m━━━━━━━━━━━━━━━━━━━━\u001b[0m\u001b[37m\u001b[0m \u001b[1m82s\u001b[0m 567ms/step - accuracy: 0.9850 - loss: 0.0816 - val_accuracy: 0.9855 - val_loss: 0.0786\n",
            "Epoch 15/15\n",
            "\u001b[1m98/98\u001b[0m \u001b[32m━━━━━━━━━━━━━━━━━━━━\u001b[0m\u001b[37m\u001b[0m \u001b[1m82s\u001b[0m 570ms/step - accuracy: 0.9852 - loss: 0.0789 - val_accuracy: 0.9853 - val_loss: 0.0771\n"
          ]
        }
      ]
    },
    {
      "cell_type": "code",
      "source": [
        "# Analyze the train and validation accuracy\n",
        "plt.figure(figsize=(12,5))\n",
        "plt.plot(\n",
        "    history.history['loss'],\n",
        "    label=\"Train loss\"\n",
        ")\n",
        "plt.plot(\n",
        "    history.history['val_loss'],\n",
        "    label=\"Validation loss\"\n",
        ")\n",
        "plt.xlabel(\"Epochs\")\n",
        "plt.ylabel(\"Loss\")\n",
        "plt.title(\"Train versus validation loss\")\n",
        "plt.legend()\n",
        "plt.show()"
      ],
      "metadata": {
        "id": "jD1m5hGulPNN",
        "colab": {
          "base_uri": "https://localhost:8080/",
          "height": 334
        },
        "outputId": "6c72b1a6-94e6-4d25-b802-1b73de9ac615"
      },
      "execution_count": null,
      "outputs": [
        {
          "output_type": "display_data",
          "data": {
            "text/plain": [
              "<Figure size 1200x500 with 1 Axes>"
            ],
            "image/png": "[encoded data removed]"
          },
          "metadata": {}
        }
      ]
    },
    {
      "cell_type": "code",
      "source": [
        "# Analyze the train and validation accuracy\n",
        "plt.figure(figsize=(12,5))\n",
        "plt.plot(\n",
        "    history.history['accuracy'],\n",
        "    label=\"Train accuracy\"\n",
        ")\n",
        "plt.plot(\n",
        "    history.history['val_accuracy'],\n",
        "    label=\"Validation accuracy\"\n",
        ")\n",
        "plt.xlabel(\"Epochs\")\n",
        "plt.ylabel(\"Accuracy\")\n",
        "plt.title(\"Train versus validation accuracy\")\n",
        "plt.legend()\n",
        "plt.show()"
      ],
      "metadata": {
        "id": "nJTXkxEflPTS",
        "colab": {
          "base_uri": "https://localhost:8080/",
          "height": 328
        },
        "outputId": "cbe54c3a-1118-4066-870c-f98417dc8918"
      },
      "execution_count": null,
      "outputs": [
        {
          "output_type": "display_data",
          "data": {
            "text/plain": [
              "<Figure size 1200x500 with 1 Axes>"
            ],
            "image/png": "[encoded data removed]"
          },
          "metadata": {}
        }
      ]
    },
    {
      "cell_type": "markdown",
      "source": [
        "The result seems good, so lets look at prediction of the only example of the test set!"
      ],
      "metadata": {
        "id": "2wx-OpjdmGxI"
      }
    },
    {
      "cell_type": "code",
      "source": [
        "\n",
        "# Generate predictions in batches to avoid OOM error\n",
        "batch_size = 32  # Adjust as needed based on your GPU memory\n",
        "num_batches = (X_val_or.shape[0] + batch_size - 1) // batch_size\n",
        "\n",
        "predictions = []\n",
        "for i in range(num_batches):\n",
        "    start_idx = i * batch_size\n",
        "    end_idx = min((i + 1) * batch_size, X_val_or.shape[0])\n",
        "\n",
        "    # Use X_val_dec instead of initial_decoder_input\n",
        "    batch_predictions = model.predict(\n",
        "        [X_val_or[start_idx:end_idx],\n",
        "         X_val_re[start_idx:end_idx],\n",
        "         X_val_dec[start_idx:end_idx]], # Changed this line\n",
        "        verbose=0  # Suppress prediction logs for cleaner output\n",
        "    )\n",
        "    predictions.extend(batch_predictions)\n",
        "\n",
        "\n",
        "# Convert predictions to text (after all batches are processed)\n",
        "def decode_predictions(predictions):\n",
        "    # Assuming vectorize_layer is decoder_veclayer\n",
        "    # Flatten the predictions to a 1D array\n",
        "    predictions = predictions.reshape(-1, predictions.shape[-1])\n",
        "    # Get the indices of the maximum values along the last axis (vocabulary size)\n",
        "    predicted_word_ids = np.argmax(predictions, axis=-1)\n",
        "    # Convert the predicted word IDs to words using the decoder's vocabulary\n",
        "    decoded_words = [decoder_veclayer.get_vocabulary()[word_id] for word_id in predicted_word_ids]\n",
        "    # Join the decoded words into a single string\n",
        "    decoded_text = \" \".join(decoded_words)\n",
        "    return decoded_text\n",
        "\n",
        "decoded_predictions = [decode_predictions(pred) for pred in predictions]"
      ],
      "metadata": {
        "id": "Yn49ZsaSGBMA"
      },
      "execution_count": null,
      "outputs": []
    },
    {
      "cell_type": "code",
      "source": [
        "from nltk.translate.bleu_score import sentence_bleu\n",
        "\n",
        "def compute_bleu_score(reference, hypothesis):\n",
        "    # Convert reference (EagerTensor) to string\n",
        "    reference_text = \" \".join([decoder_veclayer.get_vocabulary()[token_id]\n",
        "                               for token_id in reference.numpy() if token_id != 0])\n",
        "    return sentence_bleu([reference_text.split()], hypothesis.split())\n",
        "\n",
        "bleu_scores = [\n",
        "    compute_bleu_score(ref, hyp)\n",
        "    for ref, hyp in zip(Y_val, decoded_predictions)\n",
        "]\n",
        "average_bleu = np.mean(bleu_scores)\n",
        "print(f\"Average BLEU Score: {average_bleu}\")"
      ],
      "metadata": {
        "colab": {
          "base_uri": "https://localhost:8080/"
        },
        "id": "ue-GIfXZGBIh",
        "outputId": "61d10cc5-b695-4c85-81fa-121e8034491a"
      },
      "execution_count": null,
      "outputs": [
        {
          "output_type": "stream",
          "name": "stdout",
          "text": [
            "Average BLEU Score: 9.033900398243081e-156\n"
          ]
        }
      ]
    },
    {
      "cell_type": "code",
      "source": [
        "!pip install rouge-score\n",
        "from rouge_score import rouge_scorer\n",
        "\n",
        "def compute_rouge_scores(reference, hypothesis):\n",
        "    scorer = rouge_scorer.RougeScorer(['rouge1', 'rouge2', 'rougeL'], use_stemmer=True)\n",
        "    # Convert reference (EagerTensor) to string\n",
        "    reference_text = \" \".join([decoder_veclayer.get_vocabulary()[token_id]\n",
        "                               for token_id in reference.numpy() if token_id != 0])\n",
        "    return scorer.score(reference_text, hypothesis)  # Pass reference_text instead of reference\n",
        "\n",
        "rouge_scores = [\n",
        "    compute_rouge_scores(ref, hyp)\n",
        "    for ref, hyp in zip(Y_val, decoded_predictions)\n",
        "]\n",
        "average_rouge = {\n",
        "    'rouge1': np.mean([score['rouge1'].fmeasure for score in rouge_scores]),\n",
        "    'rouge2': np.mean([score['rouge2'].fmeasure for score in rouge_scores]),\n",
        "    'rougeL': np.mean([score['rougeL'].fmeasure for score in rouge_scores]),\n",
        "}\n",
        "print(f\"Average ROUGE Scores: {average_rouge}\")\n"
      ],
      "metadata": {
        "colab": {
          "base_uri": "https://localhost:8080/"
        },
        "id": "iG8hZ5ErGBFq",
        "outputId": "750f426e-8583-4c8f-d53c-53700d00d4cd"
      },
      "execution_count": null,
      "outputs": [
        {
          "output_type": "stream",
          "name": "stdout",
          "text": [
            "Requirement already satisfied: rouge-score in /usr/local/lib/python3.10/dist-packages (0.1.2)\n",
            "Requirement already satisfied: absl-py in /usr/local/lib/python3.10/dist-packages (from rouge-score) (1.4.0)\n",
            "Requirement already satisfied: nltk in /usr/local/lib/python3.10/dist-packages (from rouge-score) (3.9.1)\n",
            "Requirement already satisfied: numpy in /usr/local/lib/python3.10/dist-packages (from rouge-score) (1.26.4)\n",
            "Requirement already satisfied: six>=1.14.0 in /usr/local/lib/python3.10/dist-packages (from rouge-score) (1.17.0)\n",
            "Requirement already satisfied: click in /usr/local/lib/python3.10/dist-packages (from nltk->rouge-score) (8.1.7)\n",
            "Requirement already satisfied: joblib in /usr/local/lib/python3.10/dist-packages (from nltk->rouge-score) (1.4.2)\n",
            "Requirement already satisfied: regex>=2021.8.3 in /usr/local/lib/python3.10/dist-packages (from nltk->rouge-score) (2024.11.6)\n",
            "Requirement already satisfied: tqdm in /usr/local/lib/python3.10/dist-packages (from nltk->rouge-score) (4.67.1)\n",
            "Average ROUGE Scores: {'rouge1': 0.28654284940345337, 'rouge2': 0.014222714127670058, 'rougeL': 0.2840856908998019}\n"
          ]
        }
      ]
    },
    {
      "cell_type": "code",
      "source": [
        "#in submission this is giving only one prompt\n",
        "#Prediction\n",
        "# Read the test data\n",
        "df_test = pd.read_csv(TEST_DATA)\n",
        "df_test.head()\n",
        "\n",
        "# Assuming df_test has an 'id' column\n",
        "\n",
        "# Check if df_test has only one row:\n",
        "if df_test.shape[0] == 1:\n",
        "    # If it has only one row, take the first element of decoded_predictions\n",
        "    df_submission = pd.DataFrame({'id': df_test['id'], 'rewrite_prompt': [decoded_predictions[0]]})\n",
        "else:\n",
        "    # If it has multiple rows, proceed as before (but make sure decoded_predictions has the correct length)\n",
        "    if len(decoded_predictions) != df_test.shape[0]:\n",
        "        print(f\"Warning: Number of predictions ({len(decoded_predictions)}) does not match number of test samples ({df_test.shape[0]})\")\n",
        "    df_submission = pd.DataFrame({'id': df_test['id'], 'rewrite_prompt': decoded_predictions})\n",
        "\n",
        "df_submission.to_csv('submission.csv', index=False)"
      ],
      "metadata": {
        "id": "2IDnG9K1GBC_"
      },
      "execution_count": null,
      "outputs": []
    },
    {
      "cell_type": "code",
      "source": [
        "#this is giving for multiple rows\n",
        "# Create a new 'id' column if it doesn't exist\n",
        "if 'id' not in df.columns:\n",
        "    df['id'] = np.arange(len(df))\n",
        "\n",
        "# Get the indices used for validation\n",
        "_, val_indices = train_test_split(df.index, test_size=0.2, random_state=42)\n",
        "\n",
        "# Assuming 'decoded_predictions' from cell 33 contains the predicted prompts:\n",
        "predictions_text = [p.replace('endofseq', '').strip() for p in decoded_predictions]\n",
        "\n",
        "# Create a DataFrame using only the validation set IDs and predictions\n",
        "df_submission = pd.DataFrame({'id': df.loc[val_indices, 'id'],\n",
        "                               'predicted_prompt': predictions_text})\n",
        "\n",
        "df_submission.to_csv('submission1.csv', index=False)"
      ],
      "metadata": {
        "id": "ocD2ZvFeGBAa"
      },
      "execution_count": null,
      "outputs": []
    },
    {
      "cell_type": "code",
      "source": [],
      "metadata": {
        "id": "l1-FPPWTK-36"
      },
      "execution_count": null,
      "outputs": []
    },
    {
      "cell_type": "code",
      "source": [
        "#Prediction\n",
        "# Read the test data\n",
        "df_test = pd.read_csv(TEST_DATA)\n",
        "df_test.head()"
      ],
      "metadata": {
        "id": "VVM1Qj8KlPfR",
        "colab": {
          "base_uri": "https://localhost:8080/",
          "height": 81
        },
        "outputId": "c3c89b6d-1773-4851-a277-b4b941623d64"
      },
      "execution_count": null,
      "outputs": [
        {
          "output_type": "execute_result",
          "data": {
            "text/plain": [
              "   id                                      original_text  \\\n",
              "0  -1  The competition dataset comprises text passage...   \n",
              "\n",
              "                                      rewritten_text  \n",
              "0  Here is your shanty: (Verse 1) The text is rew...  "
            ],
            "text/html": [
              "\n",
              "  <div id=\"df-b1bfd426-afcc-410c-b5f4-a9d4e3f6553d\" class=\"colab-df-container\">\n",
              "    <div>\n",
              "<style scoped>\n",
              "    .dataframe tbody tr th:only-of-type {\n",
              "        vertical-align: middle;\n",
              "    }\n",
              "\n",
              "    .dataframe tbody tr th {\n",
              "        vertical-align: top;\n",
              "    }\n",
              "\n",
              "    .dataframe thead th {\n",
              "        text-align: right;\n",
              "    }\n",
              "</style>\n",
              "<table border=\"1\" class=\"dataframe\">\n",
              "  <thead>\n",
              "    <tr style=\"text-align: right;\">\n",
              "      <th></th>\n",
              "      <th>id</th>\n",
              "      <th>original_text</th>\n",
              "      <th>rewritten_text</th>\n",
              "    </tr>\n",
              "  </thead>\n",
              "  <tbody>\n",
              "    <tr>\n",
              "      <th>0</th>\n",
              "      <td>-1</td>\n",
              "      <td>The competition dataset comprises text passage...</td>\n",
              "      <td>Here is your shanty: (Verse 1) The text is rew...</td>\n",
              "    </tr>\n",
              "  </tbody>\n",
              "</table>\n",
              "</div>\n",
              "    <div class=\"colab-df-buttons\">\n",
              "\n",
              "  <div class=\"colab-df-container\">\n",
              "    <button class=\"colab-df-convert\" onclick=\"convertToInteractive('df-b1bfd426-afcc-410c-b5f4-a9d4e3f6553d')\"\n",
              "            title=\"Convert this dataframe to an interactive table.\"\n",
              "            style=\"display:none;\">\n",
              "\n",
              "  <svg xmlns=\"http://www.w3.org/2000/svg\" height=\"24px\" viewBox=\"0 -960 960 960\">\n",
              "    <path d=\"M120-120v-720h720v720H120Zm60-500h600v-160H180v160Zm220 220h160v-160H400v160Zm0 220h160v-160H400v160ZM180-400h160v-160H180v160Zm440 0h160v-160H620v160ZM180-180h160v-160H180v160Zm440 0h160v-160H620v160Z\"/>\n",
              "  </svg>\n",
              "    </button>\n",
              "\n",
              "  <style>\n",
              "    .colab-df-container {\n",
              "      display:flex;\n",
              "      gap: 12px;\n",
              "    }\n",
              "\n",
              "    .colab-df-convert {\n",
              "      background-color: #E8F0FE;\n",
              "      border: none;\n",
              "      border-radius: 50%;\n",
              "      cursor: pointer;\n",
              "      display: none;\n",
              "      fill: #1967D2;\n",
              "      height: 32px;\n",
              "      padding: 0 0 0 0;\n",
              "      width: 32px;\n",
              "    }\n",
              "\n",
              "    .colab-df-convert:hover {\n",
              "      background-color: #E2EBFA;\n",
              "      box-shadow: 0px 1px 2px rgba(60, 64, 67, 0.3), 0px 1px 3px 1px rgba(60, 64, 67, 0.15);\n",
              "      fill: #174EA6;\n",
              "    }\n",
              "\n",
              "    .colab-df-buttons div {\n",
              "      margin-bottom: 4px;\n",
              "    }\n",
              "\n",
              "    [theme=dark] .colab-df-convert {\n",
              "      background-color: #3B4455;\n",
              "      fill: #D2E3FC;\n",
              "    }\n",
              "\n",
              "    [theme=dark] .colab-df-convert:hover {\n",
              "      background-color: #434B5C;\n",
              "      box-shadow: 0px 1px 3px 1px rgba(0, 0, 0, 0.15);\n",
              "      filter: drop-shadow(0px 1px 2px rgba(0, 0, 0, 0.3));\n",
              "      fill: #FFFFFF;\n",
              "    }\n",
              "  </style>\n",
              "\n",
              "    <script>\n",
              "      const buttonEl =\n",
              "        document.querySelector('#df-b1bfd426-afcc-410c-b5f4-a9d4e3f6553d button.colab-df-convert');\n",
              "      buttonEl.style.display =\n",
              "        google.colab.kernel.accessAllowed ? 'block' : 'none';\n",
              "\n",
              "      async function convertToInteractive(key) {\n",
              "        const element = document.querySelector('#df-b1bfd426-afcc-410c-b5f4-a9d4e3f6553d');\n",
              "        const dataTable =\n",
              "          await google.colab.kernel.invokeFunction('convertToInteractive',\n",
              "                                                    [key], {});\n",
              "        if (!dataTable) return;\n",
              "\n",
              "        const docLinkHtml = 'Like what you see? Visit the ' +\n",
              "          '<a target=\"_blank\" href=https://colab.research.google.com/notebooks/data_table.ipynb>data table notebook</a>'\n",
              "          + ' to learn more about interactive tables.';\n",
              "        element.innerHTML = '';\n",
              "        dataTable['output_type'] = 'display_data';\n",
              "        await google.colab.output.renderOutput(dataTable, element);\n",
              "        const docLink = document.createElement('div');\n",
              "        docLink.innerHTML = docLinkHtml;\n",
              "        element.appendChild(docLink);\n",
              "      }\n",
              "    </script>\n",
              "  </div>\n",
              "\n",
              "\n",
              "    </div>\n",
              "  </div>\n"
            ],
            "application/vnd.google.colaboratory.intrinsic+json": {
              "type": "dataframe",
              "variable_name": "df_test",
              "summary": "{\n  \"name\": \"df_test\",\n  \"rows\": 1,\n  \"fields\": [\n    {\n      \"column\": \"id\",\n      \"properties\": {\n        \"dtype\": \"number\",\n        \"std\": null,\n        \"min\": -1,\n        \"max\": -1,\n        \"num_unique_values\": 1,\n        \"samples\": [\n          -1\n        ],\n        \"semantic_type\": \"\",\n        \"description\": \"\"\n      }\n    },\n    {\n      \"column\": \"original_text\",\n      \"properties\": {\n        \"dtype\": \"string\",\n        \"num_unique_values\": 1,\n        \"samples\": [\n          \"The competition dataset comprises text passages that have been rewritten by the Gemma LLM according to some rewrite_prompt instruction. The goal of the competition is to determine what prompt was used to rewrite each original text.  Please note that this is a Code Competition. When your submission is scored, this example test data will be replaced with the full test set. Expect roughly 2,000 original texts in the test set.\"\n        ],\n        \"semantic_type\": \"\",\n        \"description\": \"\"\n      }\n    },\n    {\n      \"column\": \"rewritten_text\",\n      \"properties\": {\n        \"dtype\": \"string\",\n        \"num_unique_values\": 1,\n        \"samples\": [\n          \"Here is your shanty: (Verse 1) The text is rewritten, the LLM has spun, With prompts so clever, they've been outrun. The goal is to find, the prompt so bright, To crack the code, and shine the light. (Chorus) Oh, this is a code competition, my dear, With text and prompts, we'll compete. Two thousand texts, a challenge grand, To guess the prompts, hand over hand.(Verse 2) The original text, a treasure lost, The rewrite prompt, a secret to be\"\n        ],\n        \"semantic_type\": \"\",\n        \"description\": \"\"\n      }\n    }\n  ]\n}"
            }
          },
          "metadata": {},
          "execution_count": 37
        }
      ]
    },
    {
      "cell_type": "code",
      "source": [
        "# Test generation of rewrite prompt for the test set for first element\n",
        "res = pred_generation(\n",
        "    df['original_text'].values[0],\n",
        "    df['rewritten_text'].values[0],\n",
        "    model,\n",
        "    decoder_veclayer,\n",
        ")\n",
        "\n",
        "print(f\"Rewrite prompt: {res}\")"
      ],
      "metadata": {
        "id": "-Xl4IpsWlPlR",
        "colab": {
          "base_uri": "https://localhost:8080/"
        },
        "outputId": "0cb93d69-353c-48c6-cc7c-40c4f7d76512"
      },
      "execution_count": null,
      "outputs": [
        {
          "output_type": "stream",
          "name": "stdout",
          "text": [
            "Rewrite prompt: rewrite it it a series\n"
          ]
        }
      ]
    },
    {
      "cell_type": "code",
      "source": [
        "# Initialize a list to store predictions\n",
        "predictions = []\n",
        "\n",
        "# Generate the rewrite prompt for the test set\n",
        "for i in range(len(df)):\n",
        "    if i % 500 == 0:\n",
        "        print(f\"Prediction on element {i}/{len(df)}\")\n",
        "\n",
        "    res = pred_generation(\n",
        "        df['original_text'].values[i],\n",
        "        df['rewritten_text'].values[i],\n",
        "        model,\n",
        "        decoder_veclayer,\n",
        "    )\n",
        "\n",
        "    predictions.append(res)"
      ],
      "metadata": {
        "id": "ABteitSmlPrU",
        "colab": {
          "base_uri": "https://localhost:8080/"
        },
        "outputId": "f5b738d7-d7df-4a66-d8dc-d7eff48e3335"
      },
      "execution_count": null,
      "outputs": [
        {
          "output_type": "stream",
          "name": "stdout",
          "text": [
            "Prediction on element 0/3912\n",
            "Prediction on element 500/3912\n",
            "Prediction on element 1000/3912\n",
            "Prediction on element 1500/3912\n",
            "Prediction on element 2000/3912\n",
            "Prediction on element 2500/3912\n",
            "Prediction on element 3000/3912\n",
            "Prediction on element 3500/3912\n"
          ]
        }
      ]
    },
    {
      "cell_type": "code",
      "source": [
        "from nltk.translate.bleu_score import sentence_bleu\n",
        "\n",
        "def compute_bleu_score(reference, hypothesis):\n",
        "    # Convert reference (EagerTensor) to string\n",
        "    reference_text = \" \".join([decoder_veclayer.get_vocabulary()[token_id]\n",
        "                               for token_id in reference.numpy() if token_id != 0])\n",
        "    return sentence_bleu([reference_text.split()], hypothesis.split())\n",
        "\n",
        "# The 'predictions' list contains the predicted prompts (strings), not token IDs.\n",
        "# You need to convert these prompts back into token IDs using the decoder_veclayer.\n",
        "\n",
        "decoded_predictions = []\n",
        "for prediction in predictions:\n",
        "    # Tokenize the prediction using the decoder's text vectorization layer\n",
        "    tokenized_prediction = decoder_veclayer(prediction)\n",
        "\n",
        "    # Convert the token IDs back into words\n",
        "    decoded_prediction = \" \".join([decoder_veclayer.get_vocabulary()[token_id]\n",
        "                                  for token_id in tokenized_prediction.numpy() if token_id != 0])\n",
        "    decoded_predictions.append(decoded_prediction)\n",
        "\n",
        "\n",
        "bleu_scores = [\n",
        "    compute_bleu_score(ref, hyp)\n",
        "    for ref, hyp in zip(Y_val, decoded_predictions)\n",
        "]\n",
        "average_bleu = np.mean(bleu_scores)\n",
        "print(f\"Average BLEU Score: {average_bleu}\")"
      ],
      "metadata": {
        "colab": {
          "base_uri": "https://localhost:8080/"
        },
        "id": "Z-nt5BllRq5A",
        "outputId": "f7b8307d-f801-44ef-8202-e4c808def3d2"
      },
      "execution_count": null,
      "outputs": [
        {
          "output_type": "stream",
          "name": "stdout",
          "text": [
            "Average BLEU Score: 3.7897098440278443e-156\n"
          ]
        }
      ]
    },
    {
      "cell_type": "code",
      "source": [
        "!pip install rouge-score\n",
        "from rouge_score import rouge_scorer\n",
        "\n",
        "def compute_rouge_scores(reference, hypothesis):\n",
        "    scorer = rouge_scorer.RougeScorer(['rouge1', 'rouge2', 'rougeL'], use_stemmer=True)\n",
        "    # Convert reference (NumPy array) to string\n",
        "    # Assuming decoder_veclayer has a get_vocabulary() method\n",
        "    reference = \" \".join([decoder_veclayer.get_vocabulary()[token_id]\n",
        "                          for token_id in reference.numpy() if token_id != 0])\n",
        "    return scorer.score(reference, hypothesis)\n",
        "\n",
        "rouge_scores = [\n",
        "    compute_rouge_scores(ref, hyp)\n",
        "    for ref, hyp in zip(Y_val, decoded_predictions)\n",
        "]\n",
        "average_rouge = {\n",
        "    'rouge1': np.mean([score['rouge1'].fmeasure for score in rouge_scores]),\n",
        "    'rouge2': np.mean([score['rouge2'].fmeasure for score in rouge_scores]),\n",
        "    'rougeL': np.mean([score['rougeL'].fmeasure for score in rouge_scores]),\n",
        "}\n",
        "print(f\"Average ROUGE Scores: {average_rouge}\")\n"
      ],
      "metadata": {
        "colab": {
          "base_uri": "https://localhost:8080/"
        },
        "id": "qbKZIULzRzoa",
        "outputId": "e2bd5214-2f1d-4008-f22b-6ccc759b02dc"
      },
      "execution_count": null,
      "outputs": [
        {
          "output_type": "stream",
          "name": "stdout",
          "text": [
            "Requirement already satisfied: rouge-score in /usr/local/lib/python3.10/dist-packages (0.1.2)\n",
            "Requirement already satisfied: absl-py in /usr/local/lib/python3.10/dist-packages (from rouge-score) (1.4.0)\n",
            "Requirement already satisfied: nltk in /usr/local/lib/python3.10/dist-packages (from rouge-score) (3.9.1)\n",
            "Requirement already satisfied: numpy in /usr/local/lib/python3.10/dist-packages (from rouge-score) (1.26.4)\n",
            "Requirement already satisfied: six>=1.14.0 in /usr/local/lib/python3.10/dist-packages (from rouge-score) (1.17.0)\n",
            "Requirement already satisfied: click in /usr/local/lib/python3.10/dist-packages (from nltk->rouge-score) (8.1.7)\n",
            "Requirement already satisfied: joblib in /usr/local/lib/python3.10/dist-packages (from nltk->rouge-score) (1.4.2)\n",
            "Requirement already satisfied: regex>=2021.8.3 in /usr/local/lib/python3.10/dist-packages (from nltk->rouge-score) (2024.11.6)\n",
            "Requirement already satisfied: tqdm in /usr/local/lib/python3.10/dist-packages (from nltk->rouge-score) (4.67.1)\n",
            "Average ROUGE Scores: {'rouge1': 0.2068670133446646, 'rouge2': 0.019473573274188444, 'rougeL': 0.2068670133446646}\n"
          ]
        }
      ]
    },
    {
      "cell_type": "markdown",
      "source": [
        "submission\n"
      ],
      "metadata": {
        "id": "OWVsIsphmjlf"
      }
    },
    {
      "cell_type": "code",
      "source": [
        "# Get submissions data\n",
        "df_sub = pd.read_csv(SUBMISSION_DATA)\n",
        "\n",
        "# Check if df_sub has only one row:\n",
        "if df_sub.shape[0] == 1:\n",
        "    # If it has only one row, take the first element of predictions\n",
        "    df_sub['rewrite_prompt'] = [predictions[0]]\n",
        "else:\n",
        "    # If it has multiple rows, proceed as before\n",
        "    # (but make sure predictions has the correct length)\n",
        "    if len(predictions) != df_sub.shape[0]:\n",
        "        print(f\"Warning: Number of predictions ({len(predictions)}) \"\n",
        "              f\"does not match number of test samples ({df_sub.shape[0]})\")\n",
        "    df_sub['rewrite_prompt'] = predictions\n",
        "\n",
        "# Add default prompt when the model fail to make prediction\n",
        "mean_prompt = \"Improve this text using the writing style with maintaining the original meaning but altering the tone\"\n",
        "df_sub['rewrite_prompt'] = df_sub['rewrite_prompt'].map(lambda x: mean_prompt if len(x) == 0 else x)"
      ],
      "metadata": {
        "id": "yPkMB3cmj-F_"
      },
      "execution_count": null,
      "outputs": []
    },
    {
      "cell_type": "code",
      "source": [
        "# Save as csv the result\n",
        "df_sub.to_csv('submission2.csv', index=False)"
      ],
      "metadata": {
        "id": "9WO_JscfmeSa"
      },
      "execution_count": null,
      "outputs": []
    }
  ]
}